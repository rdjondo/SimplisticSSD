{
 "cells": [
  {
   "cell_type": "markdown",
   "metadata": {},
   "source": [
    "# Simple implementation of SSD Single Shot MultiBox Detector\n",
    "\n",
    "Paper SSD: Single Shot MultiBox Detector [https://arxiv.org/pdf/1512.02325.pdf]\n",
    "Inspiration from https://github.com/rykov8/ssd_keras\n",
    "\n"
   ]
  },
  {
   "cell_type": "markdown",
   "metadata": {},
   "source": [
    "# Datasets\n",
    "\n",
    "**Current test set**\n",
    "French Traffic lights (jpeg zipped, 468MB  | ground truth txt, 0.5MB)\n",
    "http://www.lara.prd.fr/benchmarks/trafficlightsrecognition\n",
    "    \n",
    "\n",
    "**To try:**\n",
    "\n",
    "German traffic lights 5093 images, 10756 annotated traffic lights\n",
    "https://hci.iwr.uni-heidelberg.de/node/6132\n",
    "\n",
    "VIVA traffic light detection benchmark (California) Day Train Set (12.4 GB,Day Test Set 3.8 GB)\n",
    "http://cvrr.ucsd.edu/vivachallenge/index.php/traffic-light/traffic-light-detection/\n"
   ]
  },
  {
   "cell_type": "code",
   "execution_count": null,
   "metadata": {
    "collapsed": true
   },
   "outputs": [],
   "source": [
    "# Setup paths to load dataset\n",
    "image_folder = 'Lara_UrbanSeq1_JPG/Lara3D_UrbanSeq1_JPG'\n",
    "ground_truth_file = 'Lara_UrbanSeq1_GroundTruth_GT.txt'"
   ]
  },
  {
   "cell_type": "markdown",
   "metadata": {},
   "source": [
    "# Model\n",
    "The original paper uses VGG for implementing the detector.\n",
    "\n",
    "\n",
    "TODO : Will try experimenting with Xception and MobileNet  \n",
    "https://keras.io/applications/#usage-examples-for-image-classification-models\n"
   ]
  },
  {
   "cell_type": "code",
   "execution_count": 1,
   "metadata": {},
   "outputs": [
    {
     "name": "stderr",
     "output_type": "stream",
     "text": [
      "Using TensorFlow backend.\n"
     ]
    },
    {
     "name": "stdout",
     "output_type": "stream",
     "text": [
      "Pre-trained model loaded.\n",
      "_________________________________________________________________\n",
      "Layer (type)                 Output Shape              Param #   \n",
      "=================================================================\n",
      "input_1 (InputLayer)         (None, 224, 224, 3)       0         \n",
      "_________________________________________________________________\n",
      "block1_conv1 (Conv2D)        (None, 224, 224, 64)      1792      \n",
      "_________________________________________________________________\n",
      "block1_conv2 (Conv2D)        (None, 224, 224, 64)      36928     \n",
      "_________________________________________________________________\n",
      "block1_pool (MaxPooling2D)   (None, 112, 112, 64)      0         \n",
      "_________________________________________________________________\n",
      "block2_conv1 (Conv2D)        (None, 112, 112, 128)     73856     \n",
      "_________________________________________________________________\n",
      "block2_conv2 (Conv2D)        (None, 112, 112, 128)     147584    \n",
      "_________________________________________________________________\n",
      "block2_pool (MaxPooling2D)   (None, 56, 56, 128)       0         \n",
      "_________________________________________________________________\n",
      "block3_conv1 (Conv2D)        (None, 56, 56, 256)       295168    \n",
      "_________________________________________________________________\n",
      "block3_conv2 (Conv2D)        (None, 56, 56, 256)       590080    \n",
      "_________________________________________________________________\n",
      "block3_conv3 (Conv2D)        (None, 56, 56, 256)       590080    \n",
      "_________________________________________________________________\n",
      "block3_pool (MaxPooling2D)   (None, 28, 28, 256)       0         \n",
      "_________________________________________________________________\n",
      "block4_conv1 (Conv2D)        (None, 28, 28, 512)       1180160   \n",
      "_________________________________________________________________\n",
      "block4_conv2 (Conv2D)        (None, 28, 28, 512)       2359808   \n",
      "_________________________________________________________________\n",
      "block4_conv3 (Conv2D)        (None, 28, 28, 512)       2359808   \n",
      "_________________________________________________________________\n",
      "block4_pool (MaxPooling2D)   (None, 14, 14, 512)       0         \n",
      "_________________________________________________________________\n",
      "block5_conv1 (Conv2D)        (None, 14, 14, 512)       2359808   \n",
      "_________________________________________________________________\n",
      "block5_conv2 (Conv2D)        (None, 14, 14, 512)       2359808   \n",
      "_________________________________________________________________\n",
      "block5_conv3 (Conv2D)        (None, 14, 14, 512)       2359808   \n",
      "_________________________________________________________________\n",
      "block5_pool (MaxPooling2D)   (None, 7, 7, 512)         0         \n",
      "=================================================================\n",
      "Total params: 14,714,688\n",
      "Trainable params: 14,714,688\n",
      "Non-trainable params: 0\n",
      "_________________________________________________________________\n"
     ]
    }
   ],
   "source": [
    "# Extract features from an arbitrary intermediate layer with VGG19\n",
    "\n",
    "from keras.applications.vgg16 import VGG16\n",
    "from keras.preprocessing import image\n",
    "from keras.applications.vgg16 import preprocess_input\n",
    "from keras.models import Model\n",
    "import numpy as np\n",
    "\n",
    "base_model = VGG16(weights='imagenet', input_shape=(224, 224, 3),pooling=None, include_top=False)\n",
    "\n",
    "\n",
    "print('Pre-trained model loaded.')\n",
    "\n",
    "\n",
    "#from keras.utils import plot_model\n",
    "#plot_model(base_model, to_file='model.png')\n",
    "base_model.summary()\n",
    "\n",
    "for layer in base_model.layers:\n",
    "    layer.trainable = False\n"
   ]
  },
  {
   "cell_type": "code",
   "execution_count": 15,
   "metadata": {},
   "outputs": [],
   "source": [
    "\n",
    "# Extract pooling layers out of VGG-16\n",
    "\n",
    "\n",
    "num_classes = 4\n",
    "num_coordinates = 4 \n",
    "#Add a classifier and \n",
    "from keras.layers import Dense, Conv2D, Conv2DTranspose, Add, Flatten\n",
    "\n",
    "layer_5_1x1 = Conv2D(num_classes+num_coordinates, 1, padding='same', data_format=None,\n",
    "               activation='elu')(base_model.get_layer('block5_pool').output)\n",
    "\n",
    "expand_layer_5 = Conv2DTranspose(num_classes+num_coordinates, 3, strides=(2, 2), padding='same', activation='elu')(layer_5_1x1)\n",
    "\n",
    "layer_4_1x1 = Conv2D(num_classes+num_coordinates, 1, padding='same', data_format=None,\n",
    "               activation='elu')(base_model.get_layer('block4_pool').output)\n",
    "\n",
    "merge_5_and_4 = Add()([expand_layer_5, layer_4_1x1])\n",
    "\n",
    "expand_layer_4_and_5 = Conv2DTranspose(num_classes+num_coordinates, 3, strides=(2, 2), padding='same', activation='elu')(merge_5_and_4)\n",
    "\n",
    "layer_3_1x1 = Conv2D(num_classes+num_coordinates, 1, padding='same', data_format=None,\n",
    "               activation='elu')(base_model.get_layer('block3_pool').output)\n",
    "\n",
    "merge_out = Add()([expand_layer_4_and_5, layer_3_1x1])\n",
    "\n",
    "flatten_out = Flatten()(merge_out)\n",
    "\n",
    "dense_class_out = Dense(num_classes, activation='softmax', name='class_out')(flatten_out)\n",
    "dense_position_out = Dense(num_coordinates, activation='relu', name='position_out')(flatten_out)\n"
   ]
  },
  {
   "cell_type": "code",
   "execution_count": 16,
   "metadata": {},
   "outputs": [],
   "source": [
    "# Build a classifier model to put on top of the convolutional model\n",
    "\n",
    "model = Model(inputs=base_model.input, outputs=[dense_class_out,dense_position_out])"
   ]
  },
  {
   "cell_type": "code",
   "execution_count": 18,
   "metadata": {},
   "outputs": [
    {
     "name": "stdout",
     "output_type": "stream",
     "text": [
      "__________________________________________________________________________________________________\n",
      "Layer (type)                    Output Shape         Param #     Connected to                     \n",
      "==================================================================================================\n",
      "input_1 (InputLayer)            (None, 224, 224, 3)  0                                            \n",
      "__________________________________________________________________________________________________\n",
      "block1_conv1 (Conv2D)           (None, 224, 224, 64) 1792        input_1[0][0]                    \n",
      "__________________________________________________________________________________________________\n",
      "block1_conv2 (Conv2D)           (None, 224, 224, 64) 36928       block1_conv1[0][0]               \n",
      "__________________________________________________________________________________________________\n",
      "block1_pool (MaxPooling2D)      (None, 112, 112, 64) 0           block1_conv2[0][0]               \n",
      "__________________________________________________________________________________________________\n",
      "block2_conv1 (Conv2D)           (None, 112, 112, 128 73856       block1_pool[0][0]                \n",
      "__________________________________________________________________________________________________\n",
      "block2_conv2 (Conv2D)           (None, 112, 112, 128 147584      block2_conv1[0][0]               \n",
      "__________________________________________________________________________________________________\n",
      "block2_pool (MaxPooling2D)      (None, 56, 56, 128)  0           block2_conv2[0][0]               \n",
      "__________________________________________________________________________________________________\n",
      "block3_conv1 (Conv2D)           (None, 56, 56, 256)  295168      block2_pool[0][0]                \n",
      "__________________________________________________________________________________________________\n",
      "block3_conv2 (Conv2D)           (None, 56, 56, 256)  590080      block3_conv1[0][0]               \n",
      "__________________________________________________________________________________________________\n",
      "block3_conv3 (Conv2D)           (None, 56, 56, 256)  590080      block3_conv2[0][0]               \n",
      "__________________________________________________________________________________________________\n",
      "block3_pool (MaxPooling2D)      (None, 28, 28, 256)  0           block3_conv3[0][0]               \n",
      "__________________________________________________________________________________________________\n",
      "block4_conv1 (Conv2D)           (None, 28, 28, 512)  1180160     block3_pool[0][0]                \n",
      "__________________________________________________________________________________________________\n",
      "block4_conv2 (Conv2D)           (None, 28, 28, 512)  2359808     block4_conv1[0][0]               \n",
      "__________________________________________________________________________________________________\n",
      "block4_conv3 (Conv2D)           (None, 28, 28, 512)  2359808     block4_conv2[0][0]               \n",
      "__________________________________________________________________________________________________\n",
      "block4_pool (MaxPooling2D)      (None, 14, 14, 512)  0           block4_conv3[0][0]               \n",
      "__________________________________________________________________________________________________\n",
      "block5_conv1 (Conv2D)           (None, 14, 14, 512)  2359808     block4_pool[0][0]                \n",
      "__________________________________________________________________________________________________\n",
      "block5_conv2 (Conv2D)           (None, 14, 14, 512)  2359808     block5_conv1[0][0]               \n",
      "__________________________________________________________________________________________________\n",
      "block5_conv3 (Conv2D)           (None, 14, 14, 512)  2359808     block5_conv2[0][0]               \n",
      "__________________________________________________________________________________________________\n",
      "block5_pool (MaxPooling2D)      (None, 7, 7, 512)    0           block5_conv3[0][0]               \n",
      "__________________________________________________________________________________________________\n",
      "conv2d_10 (Conv2D)              (None, 7, 7, 8)      4104        block5_pool[0][0]                \n",
      "__________________________________________________________________________________________________\n",
      "conv2d_transpose_7 (Conv2DTrans (None, 14, 14, 8)    584         conv2d_10[0][0]                  \n",
      "__________________________________________________________________________________________________\n",
      "conv2d_11 (Conv2D)              (None, 14, 14, 8)    4104        block4_pool[0][0]                \n",
      "__________________________________________________________________________________________________\n",
      "add_7 (Add)                     (None, 14, 14, 8)    0           conv2d_transpose_7[0][0]         \n",
      "                                                                 conv2d_11[0][0]                  \n",
      "__________________________________________________________________________________________________\n",
      "conv2d_transpose_8 (Conv2DTrans (None, 28, 28, 8)    584         add_7[0][0]                      \n",
      "__________________________________________________________________________________________________\n",
      "conv2d_12 (Conv2D)              (None, 28, 28, 8)    2056        block3_pool[0][0]                \n",
      "__________________________________________________________________________________________________\n",
      "add_8 (Add)                     (None, 28, 28, 8)    0           conv2d_transpose_8[0][0]         \n",
      "                                                                 conv2d_12[0][0]                  \n",
      "__________________________________________________________________________________________________\n",
      "flatten_4 (Flatten)             (None, 6272)         0           add_8[0][0]                      \n",
      "__________________________________________________________________________________________________\n",
      "class_out (Dense)               (None, 4)            25092       flatten_4[0][0]                  \n",
      "__________________________________________________________________________________________________\n",
      "position_out (Dense)            (None, 4)            25092       flatten_4[0][0]                  \n",
      "==================================================================================================\n",
      "Total params: 14,776,304\n",
      "Trainable params: 61,616\n",
      "Non-trainable params: 14,714,688\n",
      "__________________________________________________________________________________________________\n",
      "False\n",
      "False\n",
      "False\n",
      "False\n",
      "False\n",
      "False\n",
      "False\n",
      "False\n",
      "False\n",
      "False\n",
      "False\n",
      "False\n",
      "False\n",
      "False\n",
      "False\n",
      "False\n",
      "False\n",
      "False\n",
      "False\n",
      "True\n",
      "True\n",
      "True\n",
      "True\n",
      "True\n",
      "True\n",
      "True\n",
      "True\n",
      "True\n",
      "True\n"
     ]
    }
   ],
   "source": [
    "model.summary()\n",
    "\n",
    "for i in model.layers:\n",
    "    print(i.trainable)"
   ]
  },
  {
   "cell_type": "code",
   "execution_count": null,
   "metadata": {
    "collapsed": true
   },
   "outputs": [],
   "source": [
    "# TODO: Batch generator"
   ]
  },
  {
   "cell_type": "code",
   "execution_count": null,
   "metadata": {
    "collapsed": true
   },
   "outputs": [],
   "source": []
  },
  {
   "cell_type": "code",
   "execution_count": null,
   "metadata": {
    "collapsed": true
   },
   "outputs": [],
   "source": []
  },
  {
   "cell_type": "code",
   "execution_count": null,
   "metadata": {
    "collapsed": true
   },
   "outputs": [],
   "source": [
    "model.compile(optimizer='rmsprop',\n",
    "              loss={'class_out': 'categorical_crossentropy', 'position_out': 'mean_squared_error'},\n",
    "              loss_weights={'main_output': 1., 'aux_output': 0.5})\n",
    "\n",
    "# And trained it via:\n",
    "model.fit(images, {'class_out': labels, 'position_out': positions},\n",
    "          epochs=50, batch_size=32)"
   ]
  }
 ],
 "metadata": {
  "kernelspec": {
   "display_name": "Python 3",
   "language": "python",
   "name": "python3"
  },
  "language_info": {
   "codemirror_mode": {
    "name": "ipython",
    "version": 3
   },
   "file_extension": ".py",
   "mimetype": "text/x-python",
   "name": "python",
   "nbconvert_exporter": "python",
   "pygments_lexer": "ipython3",
   "version": "3.6.3"
  }
 },
 "nbformat": 4,
 "nbformat_minor": 2
}

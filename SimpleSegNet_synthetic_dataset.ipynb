{
 "cells": [
  {
   "cell_type": "markdown",
   "metadata": {},
   "source": [
    "# Simple implementation of Simple Traffic Light Segmentation Neural Net\n",
    "\n"
   ]
  },
  {
   "cell_type": "markdown",
   "metadata": {},
   "source": [
    "# Datasets\n",
    "\n",
    "I will create a dataset of generic shapes and train the neural net to segment the images first by colour and then by shapes.\n"
   ]
  },
  {
   "cell_type": "markdown",
   "metadata": {},
   "source": [
    "## Colour data set"
   ]
  },
  {
   "cell_type": "code",
   "execution_count": 1,
   "metadata": {
    "collapsed": true
   },
   "outputs": [],
   "source": [
    "import numpy as np\n",
    "import pandas as pd\n",
    "import re\n",
    "\n",
    "\n",
    "# Show images\n",
    "import matplotlib.pyplot as plt\n",
    "import matplotlib.image as mpimg\n",
    "import cv2\n",
    "import glob\n",
    "\n",
    "import random"
   ]
  },
  {
   "cell_type": "code",
   "execution_count": 68,
   "metadata": {},
   "outputs": [
    {
     "data": {
      "image/png": "[encoded data removed]",
      "text/plain": [
       "<matplotlib.figure.Figure at 0x7faebc6b6710>"
      ]
     },
     "metadata": {},
     "output_type": "display_data"
    },
    {
     "data": {
      "image/png": "[encoded data removed]",
      "text/plain": [
       "<matplotlib.figure.Figure at 0x7fadad0e4278>"
      ]
     },
     "metadata": {},
     "output_type": "display_data"
    },
    {
     "name": "stdout",
     "output_type": "stream",
     "text": [
      "Image size (224, 224, 3)\n"
     ]
    }
   ],
   "source": [
    "class TrainingImage:\n",
    "    \"\"\" \n",
    "    This class handles the creation of training\n",
    "    images and the associated label image\n",
    "    \"\"\"\n",
    "    #Colors classes    \n",
    "    BLACK_CLASS = 0\n",
    "    WHITE_CLASS = 1\n",
    "    RED_CLASS = 2\n",
    "    LIME_CLASS = 3\n",
    "    BLUE_CLASS = 4\n",
    "    YELLOW_CLASS = 5\n",
    "    CYAN_CLASS = 6\n",
    "    MAGENTA_CLASS = 7\n",
    "    SILVER_CLASS = 8\n",
    "    GRAY_CLASS = 9\n",
    "    MAROON_CLASS = 10\n",
    "    OLIVE_CLASS = 11\n",
    "    GREEN_CLASS = 12\n",
    "    PURPLE_CLASS = 13\n",
    "    TEAL_CLASS = 14\n",
    "    NAVY_CLASS = 15\n",
    "    \n",
    "    COLOR = {\n",
    "        BLACK_CLASS : (0,0,0),\n",
    "        WHITE_CLASS : (255,255,255),\n",
    "        RED_CLASS : (255,0,0),\n",
    "        LIME_CLASS : (0,255,0),\n",
    "        BLUE_CLASS : (0,0,255),\n",
    "        YELLOW_CLASS : (255,255,0),\n",
    "        CYAN_CLASS : (0,255,255),\n",
    "        MAGENTA_CLASS : (255,0,255),\n",
    "        SILVER_CLASS : (192,192,192),\n",
    "        GRAY_CLASS : (128,128,128),\n",
    "        MAROON_CLASS : (128,0,0),\n",
    "        OLIVE_CLASS : (128,128,0),\n",
    "        GREEN_CLASS : (0,128,0),\n",
    "        PURPLE_CLASS : (128,0,128),\n",
    "        TEAL_CLASS : (0,128,128),\n",
    "        NAVY_CLASS : (0,0,128),\n",
    "    }\n",
    "    \n",
    "    def __init__(self, size=(224,224, 3), backgd_color_class=BLACK_CLASS):\n",
    "        self.size = size\n",
    "        self.createImageBackground(backgd_color_class)\n",
    "        \n",
    "    def clear(self):\n",
    "        self.image = np.zeros(self.size, dtype=np.uint8)\n",
    "        self.label = np.zeros(self.size[0:2] + (len(TrainingImage.COLOR.keys()), ) , dtype=np.uint8)\n",
    "        \n",
    "    def createImageBackground(self, backgd_color_class):\n",
    "        self.backgd_color_class = backgd_color_class\n",
    "        self.clear()\n",
    "        for channel in range(0, 3):\n",
    "            self.image[:,:,channel] = TrainingImage.COLOR[self.backgd_color_class][channel]\n",
    "        self.label[:,:, self.backgd_color_class] = self.backgd_color_class\n",
    "    \n",
    "    def createRectangle(self, pt1, pt2, color_class=WHITE_CLASS):\n",
    "        cv2.rectangle(self.image, \n",
    "                      pt1[::-1], pt2[::-1], TrainingImage.COLOR[color_class], thickness=cv2.FILLED)\n",
    "        self.label[pt1[0]:pt2[0],pt1[1]:pt2[1]] =  color_class\n",
    "        \n",
    "    def addRandRectangle(self, color_class=WHITE_CLASS):\n",
    "        image_size = self.image.shape\n",
    "        pt1 = (random.randint(0, 150), random.randint(0, 100))\n",
    "        pt2 = (random.randint(pt1[0]+50, image_size[0]-1), random.randint(pt1[1]+50, image_size[1]-1))\n",
    "        self.createRectangle( pt1, pt2, color_class=color_class)\n",
    "\n",
    "image_size = (224,224, 3)\n",
    "trainim = TrainingImage(size=image_size , backgd_color_class=TrainingImage.GRAY_CLASS)\n",
    "trainim.createRectangle( (50,150) , (150,200), color_class=TrainingImage.PURPLE_CLASS)\n",
    "trainim.addRandRectangle()\n",
    "\n",
    "# Plot background \n",
    "plt.imshow(trainim.image)\n",
    "plt.title('image')\n",
    "plt.show()\n",
    "\n",
    "# Plot background \n",
    "plt.imshow(trainim.label[:,:,11:14])\n",
    "plt.title('label')\n",
    "plt.show()\n",
    "\n",
    "print('Image size {}'.format(trainim.image.shape))"
   ]
  },
  {
   "cell_type": "code",
   "execution_count": 40,
   "metadata": {},
   "outputs": [
    {
     "name": "stdout",
     "output_type": "stream",
     "text": [
      "Total size of the use of memory : 73.5MB\n"
     ]
    }
   ],
   "source": [
    "# Generate color training dataset\n",
    "from functools import reduce\n",
    "\n",
    "\n",
    "NUM_TRAIN = 512\n",
    "image_size = (224,224, 3)\n",
    "size_in_memory = 1\n",
    "image_mem = reduce(lambda a,b : a*b ,image_size, 1)\n",
    "num_classes = len(TrainingImage.COLOR.keys())\n",
    "total_train_mem = NUM_TRAIN * image_mem\n",
    "print('Total size of the use of memory : {}MB'.format(total_train_mem/(1024*1024)))\n",
    "\n",
    "X_TRAIN_SIZE = (NUM_TRAIN,) + image_size\n",
    "Y_TRAIN_SIZE = (NUM_TRAIN,) + image_size[0:2] + (num_classes, )\n",
    "X_train = np.zeros(X_TRAIN_SIZE, dtype=np.uint8)\n",
    "y_train = np.zeros(Y_TRAIN_SIZE, dtype=np.uint8)\n",
    "\n",
    "trainim = TrainingImage(size=image_size)\n",
    "\n",
    "for i in range(NUM_TRAIN):\n",
    "    trainim.createImageBackground(TrainingImage.BLACK_CLASS)\n",
    "    trainim.addRandRectangle(color_class=TrainingImage.WHITE_CLASS)\n",
    "    X_train[i] = trainim.image\n",
    "    y_train[i] = trainim.label\n",
    "\n"
   ]
  },
  {
   "cell_type": "code",
   "execution_count": 41,
   "metadata": {
    "scrolled": true
   },
   "outputs": [
    {
     "data": {
      "image/png": "[encoded data removed]",
      "text/plain": [
       "<matplotlib.figure.Figure at 0x7fada8619ac8>"
      ]
     },
     "metadata": {},
     "output_type": "display_data"
    },
    {
     "data": {
      "image/png": "[encoded data removed]",
      "text/plain": [
       "<matplotlib.figure.Figure at 0x7fada8619550>"
      ]
     },
     "metadata": {},
     "output_type": "display_data"
    }
   ],
   "source": [
    "# Generate color evaluation dataset\n",
    "\n",
    "\n",
    "# Plot background \n",
    "plt.imshow(X_train[2])\n",
    "plt.title('image')\n",
    "plt.show()\n",
    "\n",
    "# Plot background \n",
    "plt.imshow(y_train[2,:,:,11:14]*10)\n",
    "plt.title('label')\n",
    "plt.show()\n",
    "\n",
    "\n",
    "# Generate color test dataset\n",
    "\n"
   ]
  },
  {
   "cell_type": "markdown",
   "metadata": {},
   "source": [
    "\n"
   ]
  },
  {
   "cell_type": "code",
   "execution_count": null,
   "metadata": {
    "scrolled": false
   },
   "outputs": [],
   "source": []
  },
  {
   "cell_type": "code",
   "execution_count": 42,
   "metadata": {
    "collapsed": true
   },
   "outputs": [],
   "source": [
    "# def generator(steps_per_epoch = 200):\n",
    "    \n",
    "\n",
    "#     # Load ground truth training dataset\n",
    "#     # TODO\n",
    "    \n",
    "#     # Compute batch dimensions\n",
    "#     batch_size = len(image_db)//steps_per_epoch\n",
    "#     print('batch_size:',batch_size)\n",
    "    \n",
    "#     batch_idx = 0\n",
    "#     continue_running = True\n",
    "    \n",
    "    \n",
    "#     while continue_running:\n",
    "#         image_X = []\n",
    "#         label_image_y = []\n",
    "        \n",
    "#         for _ in range(len(image_db)):)\n",
    "\n",
    "#             label_image_y.append(label_image)\n",
    "#             image_X.append( image_train )\n",
    "                \n",
    "                \n",
    "#             if batch_idx >= batch_size :\n",
    "#                 X = np.array(image_X).astype(np.uint8)\n",
    "#                 y = np.array(label_image_y).astype(np.uint8)\n",
    "#                 image_X = []\n",
    "#                 label_image_y = []\n",
    "#                 batch_idx = 0\n",
    "#                 yield (X, y)\n",
    "            \n",
    "        #continue_running = False\n",
    "    #return (image_X, segmented_image, label_image)\n"
   ]
  },
  {
   "cell_type": "code",
   "execution_count": null,
   "metadata": {
    "collapsed": true
   },
   "outputs": [],
   "source": []
  },
  {
   "cell_type": "markdown",
   "metadata": {},
   "source": [
    "# Model\n",
    "The original paper uses VGG for implementing the detector.\n",
    "\n",
    "\n",
    "TODO : Will try experimenting with Xception and MobileNet  \n",
    "https://keras.io/applications/#usage-examples-for-image-classification-models\n"
   ]
  },
  {
   "cell_type": "code",
   "execution_count": 24,
   "metadata": {},
   "outputs": [
    {
     "name": "stdout",
     "output_type": "stream",
     "text": [
      "Pre-trained model loaded.\n",
      "_________________________________________________________________\n",
      "Layer (type)                 Output Shape              Param #   \n",
      "=================================================================\n",
      "input_2 (InputLayer)         (None, 224, 224, 3)       0         \n",
      "_________________________________________________________________\n",
      "block1_conv1 (Conv2D)        (None, 224, 224, 64)      1792      \n",
      "_________________________________________________________________\n",
      "block1_conv2 (Conv2D)        (None, 224, 224, 64)      36928     \n",
      "_________________________________________________________________\n",
      "block1_pool (MaxPooling2D)   (None, 112, 112, 64)      0         \n",
      "_________________________________________________________________\n",
      "block2_conv1 (Conv2D)        (None, 112, 112, 128)     73856     \n",
      "_________________________________________________________________\n",
      "block2_conv2 (Conv2D)        (None, 112, 112, 128)     147584    \n",
      "_________________________________________________________________\n",
      "block2_pool (MaxPooling2D)   (None, 56, 56, 128)       0         \n",
      "_________________________________________________________________\n",
      "block3_conv1 (Conv2D)        (None, 56, 56, 256)       295168    \n",
      "_________________________________________________________________\n",
      "block3_conv2 (Conv2D)        (None, 56, 56, 256)       590080    \n",
      "_________________________________________________________________\n",
      "block3_conv3 (Conv2D)        (None, 56, 56, 256)       590080    \n",
      "_________________________________________________________________\n",
      "block3_pool (MaxPooling2D)   (None, 28, 28, 256)       0         \n",
      "_________________________________________________________________\n",
      "block4_conv1 (Conv2D)        (None, 28, 28, 512)       1180160   \n",
      "_________________________________________________________________\n",
      "block4_conv2 (Conv2D)        (None, 28, 28, 512)       2359808   \n",
      "_________________________________________________________________\n",
      "block4_conv3 (Conv2D)        (None, 28, 28, 512)       2359808   \n",
      "_________________________________________________________________\n",
      "block4_pool (MaxPooling2D)   (None, 14, 14, 512)       0         \n",
      "_________________________________________________________________\n",
      "block5_conv1 (Conv2D)        (None, 14, 14, 512)       2359808   \n",
      "_________________________________________________________________\n",
      "block5_conv2 (Conv2D)        (None, 14, 14, 512)       2359808   \n",
      "_________________________________________________________________\n",
      "block5_conv3 (Conv2D)        (None, 14, 14, 512)       2359808   \n",
      "_________________________________________________________________\n",
      "block5_pool (MaxPooling2D)   (None, 7, 7, 512)         0         \n",
      "=================================================================\n",
      "Total params: 14,714,688\n",
      "Trainable params: 0\n",
      "Non-trainable params: 14,714,688\n",
      "_________________________________________________________________\n"
     ]
    }
   ],
   "source": [
    "# Extract features from an arbitrary intermediate layer with VGG19\n",
    "\n",
    "from keras.applications.vgg16 import VGG16\n",
    "from keras.preprocessing import image\n",
    "from keras.applications.vgg16 import preprocess_input\n",
    "from keras.models import Model\n",
    "\n",
    "base_model = VGG16(weights='imagenet', input_shape=(224, 224, 3),pooling=None, include_top=False)\n",
    "\n",
    "\n",
    "print('Pre-trained model loaded.')\n",
    "\n",
    "for layer in base_model.layers:\n",
    "    layer.trainable = False\n",
    "\n",
    "base_model.summary()\n"
   ]
  },
  {
   "cell_type": "code",
   "execution_count": 25,
   "metadata": {
    "collapsed": true
   },
   "outputs": [],
   "source": [
    "# Get input dimensions\n",
    "input_height = base_model.layers[0].input_shape[1]\n",
    "input_width = base_model.layers[0].input_shape[2]"
   ]
  },
  {
   "cell_type": "code",
   "execution_count": 33,
   "metadata": {
    "scrolled": true
   },
   "outputs": [
    {
     "name": "stdout",
     "output_type": "stream",
     "text": [
      "____________________________________________________________________________________________________\n",
      "Layer (type)                     Output Shape          Param #     Connected to                     \n",
      "====================================================================================================\n",
      "input_2 (InputLayer)             (None, 224, 224, 3)   0                                            \n",
      "____________________________________________________________________________________________________\n",
      "block1_conv1 (Conv2D)            (None, 224, 224, 64)  1792        input_2[0][0]                    \n",
      "____________________________________________________________________________________________________\n",
      "block1_conv2 (Conv2D)            (None, 224, 224, 64)  36928       block1_conv1[0][0]               \n",
      "____________________________________________________________________________________________________\n",
      "block1_pool (MaxPooling2D)       (None, 112, 112, 64)  0           block1_conv2[0][0]               \n",
      "____________________________________________________________________________________________________\n",
      "block2_conv1 (Conv2D)            (None, 112, 112, 128) 73856       block1_pool[0][0]                \n",
      "____________________________________________________________________________________________________\n",
      "block2_conv2 (Conv2D)            (None, 112, 112, 128) 147584      block2_conv1[0][0]               \n",
      "____________________________________________________________________________________________________\n",
      "block2_pool (MaxPooling2D)       (None, 56, 56, 128)   0           block2_conv2[0][0]               \n",
      "____________________________________________________________________________________________________\n",
      "block3_conv1 (Conv2D)            (None, 56, 56, 256)   295168      block2_pool[0][0]                \n",
      "____________________________________________________________________________________________________\n",
      "block3_conv2 (Conv2D)            (None, 56, 56, 256)   590080      block3_conv1[0][0]               \n",
      "____________________________________________________________________________________________________\n",
      "block3_conv3 (Conv2D)            (None, 56, 56, 256)   590080      block3_conv2[0][0]               \n",
      "____________________________________________________________________________________________________\n",
      "block3_pool (MaxPooling2D)       (None, 28, 28, 256)   0           block3_conv3[0][0]               \n",
      "____________________________________________________________________________________________________\n",
      "block4_conv1 (Conv2D)            (None, 28, 28, 512)   1180160     block3_pool[0][0]                \n",
      "____________________________________________________________________________________________________\n",
      "block4_conv2 (Conv2D)            (None, 28, 28, 512)   2359808     block4_conv1[0][0]               \n",
      "____________________________________________________________________________________________________\n",
      "block4_conv3 (Conv2D)            (None, 28, 28, 512)   2359808     block4_conv2[0][0]               \n",
      "____________________________________________________________________________________________________\n",
      "block4_pool (MaxPooling2D)       (None, 14, 14, 512)   0           block4_conv3[0][0]               \n",
      "____________________________________________________________________________________________________\n",
      "block5_conv1 (Conv2D)            (None, 14, 14, 512)   2359808     block4_pool[0][0]                \n",
      "____________________________________________________________________________________________________\n",
      "block5_conv2 (Conv2D)            (None, 14, 14, 512)   2359808     block5_conv1[0][0]               \n",
      "____________________________________________________________________________________________________\n",
      "block5_conv3 (Conv2D)            (None, 14, 14, 512)   2359808     block5_conv2[0][0]               \n",
      "____________________________________________________________________________________________________\n",
      "block5_pool (MaxPooling2D)       (None, 7, 7, 512)     0           block5_conv3[0][0]               \n",
      "____________________________________________________________________________________________________\n",
      "convpool_5_1x1 (Conv2D)          (None, 7, 7, 16)      8208        block5_pool[0][0]                \n",
      "____________________________________________________________________________________________________\n",
      "conv2d_transpose_4 (Conv2DTransp (None, 14, 14, 16)    2320        convpool_5_1x1[0][0]             \n",
      "____________________________________________________________________________________________________\n",
      "convpool_4_1x1 (Conv2D)          (None, 14, 14, 16)    8208        block4_pool[0][0]                \n",
      "____________________________________________________________________________________________________\n",
      "add_5 (Add)                      (None, 14, 14, 16)    0           conv2d_transpose_4[0][0]         \n",
      "                                                                   convpool_4_1x1[0][0]             \n",
      "____________________________________________________________________________________________________\n",
      "conv2d_transpose_5 (Conv2DTransp (None, 28, 28, 16)    2320        add_5[0][0]                      \n",
      "____________________________________________________________________________________________________\n",
      "up_layer_4_and_5_bn (BatchNormal (None, 28, 28, 16)    64          conv2d_transpose_5[0][0]         \n",
      "____________________________________________________________________________________________________\n",
      "convpool_3_1x1 (Conv2D)          (None, 28, 28, 16)    4112        block3_pool[0][0]                \n",
      "____________________________________________________________________________________________________\n",
      "add_6 (Add)                      (None, 28, 28, 16)    0           up_layer_4_and_5_bn[0][0]        \n",
      "                                                                   convpool_3_1x1[0][0]             \n",
      "____________________________________________________________________________________________________\n",
      "conv2d_transpose_6 (Conv2DTransp (None, 56, 56, 16)    2320        add_6[0][0]                      \n",
      "____________________________________________________________________________________________________\n",
      "convpool_2_1x1 (Conv2D)          (None, 56, 56, 16)    2064        block2_pool[0][0]                \n",
      "____________________________________________________________________________________________________\n",
      "add_7 (Add)                      (None, 56, 56, 16)    0           conv2d_transpose_6[0][0]         \n",
      "                                                                   convpool_2_1x1[0][0]             \n",
      "____________________________________________________________________________________________________\n",
      "up_layer_2_to_5 (Conv2DTranspose (None, 112, 112, 16)  2320        add_7[0][0]                      \n",
      "____________________________________________________________________________________________________\n",
      "convpool_1_1x1 (Conv2D)          (None, 112, 112, 16)  1040        block1_pool[0][0]                \n",
      "____________________________________________________________________________________________________\n",
      "up_layer_2_to_5_bn (BatchNormali (None, 112, 112, 16)  64          up_layer_2_to_5[0][0]            \n",
      "____________________________________________________________________________________________________\n",
      "dropout_2 (Dropout)              (None, 112, 112, 16)  0           convpool_1_1x1[0][0]             \n",
      "____________________________________________________________________________________________________\n",
      "add_8 (Add)                      (None, 112, 112, 16)  0           up_layer_2_to_5_bn[0][0]         \n",
      "                                                                   dropout_2[0][0]                  \n",
      "____________________________________________________________________________________________________\n",
      "final_up (Conv2DTranspose)       (None, 224, 224, 16)  2320        add_8[0][0]                      \n",
      "____________________________________________________________________________________________________\n",
      "seg_out (Lambda)                 (None, 224, 224, 16)  0           final_up[0][0]                   \n",
      "====================================================================================================\n",
      "Total params: 14,750,048\n",
      "Trainable params: 35,296\n",
      "Non-trainable params: 14,714,752\n",
      "____________________________________________________________________________________________________\n"
     ]
    }
   ],
   "source": [
    "# Extract pooling layers out of VGG-16\n",
    "num_classes = len(TrainingImage.COLOR.keys())\n",
    "\n",
    "\n",
    "from keras.layers import Dense, Conv2D, UpSampling2D, Activation\n",
    "from keras.layers import Conv2DTranspose, Add, Flatten, Lambda\n",
    "from keras.layers import BatchNormalization, Reshape, Permute, Dropout\n",
    "from keras import backend as K\n",
    "from keras import regularizers\n",
    "\n",
    "# Layer 5\n",
    "layer_5_1x1 = Conv2D(num_classes, 1, padding='same', name='convpool_5_1x1',\n",
    "               activation='selu')(base_model.get_layer('block5_pool').output)\n",
    "\n",
    "up_layer_5 = Conv2DTranspose(num_classes, (3, 3), activation='selu',\n",
    "                            padding='same', strides=(2,2)  )(layer_5_1x1)\n",
    "\n",
    "#up_layer_5_bn = BatchNormalization(axis=3, name='up_layer_5_bn')(up_layer_5)\n",
    "\n",
    "# Layer 4\n",
    "layer_4_1x1 = Conv2D(num_classes, 1, padding='same', name='convpool_4_1x1',\n",
    "               activation='selu')(base_model.get_layer('block4_pool').output)\n",
    "\n",
    "merge_4_and_5 = Add()([up_layer_5, layer_4_1x1])\n",
    "\n",
    "\n",
    "up_layer_4_and_5 = Conv2DTranspose(num_classes, (3, 3), activation='selu',\n",
    "                            padding='same', strides=(2,2))(merge_4_and_5)\n",
    "\n",
    "up_layer_4_and_5 = BatchNormalization(axis=3, name='up_layer_4_and_5_bn')(up_layer_4_and_5)\n",
    "\n",
    "# Layer 3\n",
    "layer_3_1x1 = Conv2D(num_classes, 1, padding='same', name='convpool_3_1x1',\n",
    "               activation='selu')(base_model.get_layer('block3_pool').output)\n",
    "\n",
    "merge_3_to_5 = Add()([up_layer_4_and_5, layer_3_1x1])\n",
    "\n",
    "up_layer_3_to_5 = Conv2DTranspose(num_classes, (3, 3), activation='selu',\n",
    "                            padding='same', strides=(2,2)  )(merge_3_to_5)\n",
    "\n",
    "\n",
    "\n",
    "# Layer 2\n",
    "layer_2_1x1 = Conv2D(num_classes, 1, padding='same', name='convpool_2_1x1',\n",
    "               activation='selu')(base_model.get_layer('block2_pool').output)\n",
    "\n",
    "merge_2_to_5 = Add()([up_layer_3_to_5, layer_2_1x1])\n",
    "\n",
    "\n",
    "\n",
    "up_layer_2_to_5 =Conv2DTranspose(num_classes, (3, 3), \n",
    "                                      activation='selu',\n",
    "                            padding='same', strides=(2,2) ,\n",
    "                                      name='up_layer_2_to_5')(merge_2_to_5)\n",
    "\n",
    "\n",
    "up_layer_2_to_5 = BatchNormalization(axis=3, \n",
    "                                        name='up_layer_2_to_5_bn')(up_layer_2_to_5)\n",
    "\n",
    "# Layer 1\n",
    "layer_1_1x1 = Conv2D(num_classes, 1, padding='same', name='convpool_1_1x1',\n",
    "               activation='selu')(base_model.get_layer('block1_pool').output)\n",
    "\n",
    "layer_1_1x1 = Dropout(0.95)(layer_1_1x1)\n",
    "\n",
    "merge_1_to_5 = Add()([up_layer_2_to_5, layer_1_1x1])\n",
    "\n",
    "up_layer_1_to_5 =Conv2DTranspose(num_classes, (3, 3), \n",
    "                                      activation='selu',\n",
    "                            padding='same', strides=(2,2) ,\n",
    "                                      name='final_up')(merge_1_to_5)\n",
    "\n",
    "\n",
    "\n",
    "\n",
    "\n",
    "def depth_softmax(matrix):\n",
    "    sigmoid = lambda x: 1 / (1 + K.exp(-x))\n",
    "    sigmoided_matrix = sigmoid(matrix)\n",
    "    sum_sig = K.sum(sigmoided_matrix, axis=3)\n",
    "    sum_sig_reshaped = K.reshape(sum_sig,(-1,input_height,input_height,1))\n",
    "    repeat = num_classes\n",
    "    sum_sigmoided_repeated = K.repeat_elements(sum_sig_reshaped, repeat, axis=3)\n",
    "    softmax_matrix = sigmoided_matrix / sum_sigmoided_repeated\n",
    "    return softmax_matrix\n",
    "\n",
    "\n",
    "seg_out = Lambda(depth_softmax, name='seg_out')(up_layer_1_to_5)\n",
    "\n",
    "# Build a classifier model to put on top of the convolutional model\n",
    "\n",
    "model = Model(inputs=base_model.input, outputs=seg_out)\n",
    "\n",
    "\n",
    "\n",
    "from keras.utils import plot_model\n",
    "plot_model(model, to_file='model.png')\n",
    "\n",
    "#for i in model.layers:\n",
    "#    print(i.trainable)\n",
    "\n",
    "model.summary()"
   ]
  },
  {
   "cell_type": "code",
   "execution_count": 61,
   "metadata": {},
   "outputs": [
    {
     "name": "stdout",
     "output_type": "stream",
     "text": [
      "Epoch 1/2\n",
      "512/512 [==============================] - 7s - loss: 10.1280 - categorical_accuracy: 0.1168     \n",
      "Epoch 2/2\n",
      "512/512 [==============================] - 6s - loss: 10.0723 - categorical_accuracy: 0.1163     \n"
     ]
    }
   ],
   "source": [
    "from keras import optimizers\n",
    "optimizer_selected = optimizers.Adam(lr=1e-3)\n",
    "\n",
    "model.compile(optimizer=optimizer_selected, loss='categorical_crossentropy', metrics=['categorical_accuracy'])\n",
    "#model.compile(optimizer=optimizers.SGD(lr=100), loss=dice_coef_loss, metrics=[dice_coef])\n",
    "\n",
    "steps_per_ep = 10\n",
    "history = model.fit(x=X_train, y=y_train, batch_size=10, epochs=2, verbose=1, callbacks=None, \n",
    "                    validation_split=0.0, validation_data=None, shuffle=True,\n",
    "                    class_weight=None, sample_weight=None, initial_epoch=0,\n",
    "                    steps_per_epoch=None, validation_steps=None)\n"
   ]
  },
  {
   "cell_type": "code",
   "execution_count": 62,
   "metadata": {},
   "outputs": [
    {
     "data": {
      "image/png": "[encoded data removed]",
      "text/plain": [
       "<matplotlib.figure.Figure at 0x7faec4ffcb38>"
      ]
     },
     "metadata": {},
     "output_type": "display_data"
    }
   ],
   "source": [
    "# Plot loss function\n",
    "plt.plot(history.epoch,history.history['loss'])\n",
    "plt.legend(('loss'))\n",
    "plt.grid('on')\n",
    "plt.show()\n"
   ]
  },
  {
   "cell_type": "code",
   "execution_count": 71,
   "metadata": {},
   "outputs": [
    {
     "data": {
      "image/png": "[encoded data removed]",
      "text/plain": [
       "<matplotlib.figure.Figure at 0x7faebc820048>"
      ]
     },
     "metadata": {},
     "output_type": "display_data"
    },
    {
     "data": {
      "image/png": "[encoded data removed]",
      "text/plain": [
       "<matplotlib.figure.Figure at 0x7faebc790d68>"
      ]
     },
     "metadata": {},
     "output_type": "display_data"
    }
   ],
   "source": [
    "img = X_train[20]\n",
    "plt.imshow( img)\n",
    "plt.show()\n",
    "\n",
    "seg= model.predict(img.reshape(1,224,224,3))\n",
    "\n",
    "seg = seg.reshape(224,224, num_classes)\n",
    "plt.imshow( (seg[:,:,0]>seg[:,:,1]))\n",
    "plt.show()"
   ]
  },
  {
   "cell_type": "code",
   "execution_count": null,
   "metadata": {},
   "outputs": [],
   "source": [
    "image_path = 'bosch/dataset_train_rgb_zip/rgb/train/2017-02-03-11-44-56_los_altos_mountain_view_traffic_lights_bag/208772.png'\n",
    "\n",
    "img = cv2.cvtColor( cv2.imread( image_path), cv2.COLOR_BGR2RGB )\n",
    "img = preprocess_image(img)\n",
    "\n",
    "plt.imshow( img)\n",
    "plt.show()\n",
    "\n",
    "seg= model.predict(img.reshape(1,224,224,3))\n",
    "\n",
    "seg = seg.reshape(224,224,2)\n",
    "\n",
    "\n",
    "seg = seg.reshape(224,224,2)\n",
    "plt.imshow( seg[:,:,0]>seg[:,:,1])\n",
    "plt.show()\n",
    "\n",
    "prediction = np.zeros(img.shape, dtype=np.uint8)\n",
    "print(prediction.shape)\n",
    "prediction[:,:,2] = ((seg[:,:,0]<seg[:,:,1]).astype(np.uint32) * 300).clip(0,255).astype(np.uint8)\n",
    "\n",
    "combine_images = (img.astype(np.uint16) + prediction.astype(np.uint16)).clip(0,255).astype(np.uint8)\n",
    "plt.imshow( combine_images )\n",
    "plt.show()"
   ]
  },
  {
   "cell_type": "code",
   "execution_count": null,
   "metadata": {
    "collapsed": true
   },
   "outputs": [],
   "source": []
  }
 ],
 "metadata": {
  "kernelspec": {
   "display_name": "Python [default]",
   "language": "python",
   "name": "python3"
  },
  "language_info": {
   "codemirror_mode": {
    "name": "ipython",
    "version": 3
   },
   "file_extension": ".py",
   "mimetype": "text/x-python",
   "name": "python",
   "nbconvert_exporter": "python",
   "pygments_lexer": "ipython3",
   "version": "3.5.2"
  }
 },
 "nbformat": 4,
 "nbformat_minor": 2
}

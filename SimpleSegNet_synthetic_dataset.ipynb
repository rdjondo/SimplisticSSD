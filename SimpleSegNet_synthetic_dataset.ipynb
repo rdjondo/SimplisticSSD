{
 "cells": [
  {
   "cell_type": "markdown",
   "metadata": {},
   "source": [
    "# Simple implementation of Simple Traffic Light Segmentation Neural Net\n",
    "\n"
   ]
  },
  {
   "cell_type": "markdown",
   "metadata": {},
   "source": [
    "# Datasets\n",
    "\n",
    "I will create a dataset of generic shapes and train the neural net to segment the images first by colour and then by shapes.\n"
   ]
  },
  {
   "cell_type": "markdown",
   "metadata": {},
   "source": [
    "## Colour data set"
   ]
  },
  {
   "cell_type": "code",
   "execution_count": 1,
   "metadata": {
    "collapsed": true
   },
   "outputs": [],
   "source": [
    "import numpy as np\n",
    "import pandas as pd\n",
    "import re\n",
    "\n",
    "\n",
    "# Show images\n",
    "import matplotlib.pyplot as plt\n",
    "import matplotlib.image as mpimg\n",
    "import cv2\n",
    "import glob\n",
    "\n",
    "import random"
   ]
  },
  {
   "cell_type": "code",
   "execution_count": 55,
   "metadata": {},
   "outputs": [
    {
     "data": {
      "image/png": "[encoded data removed]",
      "text/plain": [
       "<matplotlib.figure.Figure at 0x7fa9a3074dd8>"
      ]
     },
     "metadata": {},
     "output_type": "display_data"
    },
    {
     "data": {
      "image/png": "[encoded data removed]",
      "text/plain": [
       "<matplotlib.figure.Figure at 0x7fa9e99c34e0>"
      ]
     },
     "metadata": {},
     "output_type": "display_data"
    },
    {
     "name": "stdout",
     "output_type": "stream",
     "text": [
      "Image size (224, 224, 3)\n"
     ]
    }
   ],
   "source": [
    "class TrainingImage:\n",
    "    \"\"\" \n",
    "    This class handles the creation of training\n",
    "    images and the associated label image\n",
    "    \"\"\"\n",
    "    #Colors classes    \n",
    "    BLACK_CLASS = 0\n",
    "    WHITE_CLASS = 1\n",
    "    RED_CLASS = 2\n",
    "    LIME_CLASS = 3\n",
    "    BLUE_CLASS = 4\n",
    "    YELLOW_CLASS = 5\n",
    "    CYAN_CLASS = 6\n",
    "    MAGENTA_CLASS = 7\n",
    "    SILVER_CLASS = 8\n",
    "    GRAY_CLASS = 9\n",
    "    MAROON_CLASS = 10\n",
    "    OLIVE_CLASS = 11\n",
    "    GREEN_CLASS = 12\n",
    "    PURPLE_CLASS = 13\n",
    "    TEAL_CLASS = 14\n",
    "    NAVY_CLASS = 15\n",
    "    \n",
    "    COLOR = {\n",
    "        BLACK_CLASS : (0,0,0),\n",
    "        WHITE_CLASS : (255,255,255),\n",
    "        RED_CLASS : (255,0,0),\n",
    "#         LIME_CLASS : (0,255,0),\n",
    "#         BLUE_CLASS : (0,0,255),\n",
    "#         YELLOW_CLASS : (255,255,0),\n",
    "#         CYAN_CLASS : (0,255,255),\n",
    "#         MAGENTA_CLASS : (255,0,255),\n",
    "#         SILVER_CLASS : (192,192,192),\n",
    "#         GRAY_CLASS : (128,128,128),\n",
    "#         MAROON_CLASS : (128,0,0),\n",
    "#         OLIVE_CLASS : (128,128,0),\n",
    "#         GREEN_CLASS : (0,128,0),\n",
    "#         PURPLE_CLASS : (128,0,128),\n",
    "#         TEAL_CLASS : (0,128,128),\n",
    "#         NAVY_CLASS : (0,0,128),\n",
    "    }\n",
    "    \n",
    "    def __init__(self, size=(224,224, 3), backgd_color_class=BLACK_CLASS):\n",
    "        self.size = size\n",
    "        self.createImageBackground(backgd_color_class)\n",
    "        \n",
    "    def clear(self):\n",
    "        self.image = np.zeros(self.size, dtype=np.uint8)\n",
    "        self.label = np.zeros(self.size[0:2] + (len(TrainingImage.COLOR.keys()), ) , dtype=np.uint8)\n",
    "        \n",
    "    def createImageBackground(self, backgd_color_class):\n",
    "        self.backgd_color_class = backgd_color_class\n",
    "        self.clear()\n",
    "        for channel in range(0, 3):\n",
    "            self.image[:,:,channel] = TrainingImage.COLOR[self.backgd_color_class][channel]\n",
    "        self.label[:,:, self.backgd_color_class] = 1\n",
    "    \n",
    "    def createRectangle(self, pt1, pt2, color_class=WHITE_CLASS):\n",
    "        cv2.rectangle(self.image, \n",
    "                      pt1[::-1], pt2[::-1], TrainingImage.COLOR[color_class], thickness=cv2.FILLED)\n",
    "        self.label[pt1[0]:pt2[0],pt1[1]:pt2[1], :] =  0 # Clear exisiting labels in target position\n",
    "        self.label[pt1[0]:pt2[0],pt1[1]:pt2[1], color_class] =  1\n",
    "        \n",
    "    def addRandRectangle(self, color_class=WHITE_CLASS):\n",
    "        image_size = self.image.shape\n",
    "        pt1 = (random.randint(0, 150), random.randint(0, 100))\n",
    "        pt2 = (random.randint(pt1[0]+50, image_size[0]-1), random.randint(pt1[1]+50, image_size[1]-1))\n",
    "        self.createRectangle( pt1, pt2, color_class=color_class)\n",
    "\n",
    "image_size = (224,224, 3)\n",
    "trainim = TrainingImage(size=image_size , backgd_color_class=TrainingImage.BLACK_CLASS)\n",
    "trainim.createRectangle( (50,150) , (150,200), color_class=TrainingImage.RED_CLASS)\n",
    "trainim.addRandRectangle(TrainingImage.WHITE_CLASS)\n",
    "\n",
    "# Plot background \n",
    "plt.imshow(trainim.image)\n",
    "plt.title('image')\n",
    "plt.show()\n",
    "\n",
    "# Plot background \n",
    "#plt.imshow(trainim.label[:,:,11:14])\n",
    "plt.imshow(trainim.label.argmax(axis=2), cmap='hot')\n",
    "plt.title('label')\n",
    "plt.show()\n",
    "\n",
    "print('Image size {}'.format(trainim.image.shape))"
   ]
  },
  {
   "cell_type": "code",
   "execution_count": 79,
   "metadata": {},
   "outputs": [
    {
     "name": "stdout",
     "output_type": "stream",
     "text": [
      "Total size of the use of memory : 147.0MB\n"
     ]
    }
   ],
   "source": [
    "# Generate color training dataset\n",
    "from functools import reduce\n",
    "\n",
    "\n",
    "NUM_TRAIN = 512\n",
    "num_classes = len(TrainingImage.COLOR.keys())\n",
    "image_size = (224,224, 3)\n",
    "label_size = (224,224, num_classes)\n",
    "size_in_memory = 1\n",
    "image_mem = reduce(lambda a,b : a*b ,image_size, 1)\n",
    "label_mem = reduce(lambda a,b : a*b ,label_size, 1)\n",
    "total_train_mem = NUM_TRAIN * (image_mem + label_mem)\n",
    "print('Total size of the use of memory : {}MB'.format(total_train_mem/(1024*1024)))\n",
    "\n",
    "X_TRAIN_SIZE = (NUM_TRAIN,) + image_size\n",
    "Y_TRAIN_SIZE = (NUM_TRAIN,) + image_size[0:2] + (num_classes, )\n",
    "X_train = np.zeros(X_TRAIN_SIZE, dtype=np.uint8)\n",
    "y_train = np.zeros(Y_TRAIN_SIZE, dtype=np.uint8)\n",
    "\n",
    "trainim = TrainingImage(size=image_size)\n",
    "\n",
    "for i in range(NUM_TRAIN):\n",
    "    trainim.createImageBackground(TrainingImage.BLACK_CLASS)\n",
    "    trainim.addRandRectangle(color_class=random.randint(1, num_classes-1))\n",
    "    \n",
    "    X_train[i] = trainim.image\n",
    "    y_train[i] = trainim.label\n",
    "\n"
   ]
  },
  {
   "cell_type": "code",
   "execution_count": 80,
   "metadata": {
    "scrolled": false
   },
   "outputs": [
    {
     "data": {
      "image/png": "[encoded data removed]",
      "text/plain": [
       "<matplotlib.figure.Figure at 0x7fa93433a588>"
      ]
     },
     "metadata": {},
     "output_type": "display_data"
    },
    {
     "data": {
      "image/png": "[encoded data removed]",
      "text/plain": [
       "<matplotlib.figure.Figure at 0x7fa98c060438>"
      ]
     },
     "metadata": {},
     "output_type": "display_data"
    },
    {
     "data": {
      "image/png": "[encoded data removed]",
      "text/plain": [
       "<matplotlib.figure.Figure at 0x7fa8dc07f0b8>"
      ]
     },
     "metadata": {},
     "output_type": "display_data"
    },
    {
     "data": {
      "image/png": "[encoded data removed]",
      "text/plain": [
       "<matplotlib.figure.Figure at 0x7fa8d4807470>"
      ]
     },
     "metadata": {},
     "output_type": "display_data"
    }
   ],
   "source": [
    "# Plot color evaluation dataset\n",
    "\n",
    "for idx in range(3,7):\n",
    "\n",
    "    fig = plt.figure(1)\n",
    "    ax = fig.add_subplot(1,2,1)\n",
    "    imsh = ax.imshow( X_train[idx], cmap='magma')\n",
    "\n",
    "    ax = fig.add_subplot(1,2,2)\n",
    "    imsh = ax.imshow( y_train[idx,:,:,0], cmap='magma')\n",
    "    plt.colorbar(imsh)\n",
    "    plt.show()\n",
    "\n",
    "\n",
    "\n",
    "\n"
   ]
  },
  {
   "cell_type": "markdown",
   "metadata": {},
   "source": [
    "\n"
   ]
  },
  {
   "cell_type": "code",
   "execution_count": null,
   "metadata": {
    "collapsed": true
   },
   "outputs": [],
   "source": []
  },
  {
   "cell_type": "markdown",
   "metadata": {},
   "source": [
    "# Model\n",
    "The original paper uses VGG for implementing the detector.\n",
    "\n",
    "\n",
    "TODO : Will try experimenting with Xception and MobileNet  \n",
    "https://keras.io/applications/#usage-examples-for-image-classification-models\n"
   ]
  },
  {
   "cell_type": "code",
   "execution_count": 5,
   "metadata": {},
   "outputs": [
    {
     "name": "stderr",
     "output_type": "stream",
     "text": [
      "Using TensorFlow backend.\n"
     ]
    },
    {
     "name": "stdout",
     "output_type": "stream",
     "text": [
      "Pre-trained model loaded.\n",
      "_________________________________________________________________\n",
      "Layer (type)                 Output Shape              Param #   \n",
      "=================================================================\n",
      "input_1 (InputLayer)         (None, 224, 224, 3)       0         \n",
      "_________________________________________________________________\n",
      "block1_conv1 (Conv2D)        (None, 224, 224, 64)      1792      \n",
      "_________________________________________________________________\n",
      "block1_conv2 (Conv2D)        (None, 224, 224, 64)      36928     \n",
      "_________________________________________________________________\n",
      "block1_pool (MaxPooling2D)   (None, 112, 112, 64)      0         \n",
      "_________________________________________________________________\n",
      "block2_conv1 (Conv2D)        (None, 112, 112, 128)     73856     \n",
      "_________________________________________________________________\n",
      "block2_conv2 (Conv2D)        (None, 112, 112, 128)     147584    \n",
      "_________________________________________________________________\n",
      "block2_pool (MaxPooling2D)   (None, 56, 56, 128)       0         \n",
      "_________________________________________________________________\n",
      "block3_conv1 (Conv2D)        (None, 56, 56, 256)       295168    \n",
      "_________________________________________________________________\n",
      "block3_conv2 (Conv2D)        (None, 56, 56, 256)       590080    \n",
      "_________________________________________________________________\n",
      "block3_conv3 (Conv2D)        (None, 56, 56, 256)       590080    \n",
      "_________________________________________________________________\n",
      "block3_pool (MaxPooling2D)   (None, 28, 28, 256)       0         \n",
      "_________________________________________________________________\n",
      "block4_conv1 (Conv2D)        (None, 28, 28, 512)       1180160   \n",
      "_________________________________________________________________\n",
      "block4_conv2 (Conv2D)        (None, 28, 28, 512)       2359808   \n",
      "_________________________________________________________________\n",
      "block4_conv3 (Conv2D)        (None, 28, 28, 512)       2359808   \n",
      "_________________________________________________________________\n",
      "block4_pool (MaxPooling2D)   (None, 14, 14, 512)       0         \n",
      "_________________________________________________________________\n",
      "block5_conv1 (Conv2D)        (None, 14, 14, 512)       2359808   \n",
      "_________________________________________________________________\n",
      "block5_conv2 (Conv2D)        (None, 14, 14, 512)       2359808   \n",
      "_________________________________________________________________\n",
      "block5_conv3 (Conv2D)        (None, 14, 14, 512)       2359808   \n",
      "_________________________________________________________________\n",
      "block5_pool (MaxPooling2D)   (None, 7, 7, 512)         0         \n",
      "=================================================================\n",
      "Total params: 14,714,688\n",
      "Trainable params: 0\n",
      "Non-trainable params: 14,714,688\n",
      "_________________________________________________________________\n"
     ]
    }
   ],
   "source": [
    "# Extract features from an arbitrary intermediate layer with VGG19\n",
    "\n",
    "from keras.applications.vgg16 import VGG16\n",
    "from keras.preprocessing import image\n",
    "from keras.applications.vgg16 import preprocess_input\n",
    "from keras.models import Model\n",
    "\n",
    "base_model = VGG16(weights='imagenet', input_shape=(224, 224, 3),pooling=None, include_top=False)\n",
    "\n",
    "\n",
    "print('Pre-trained model loaded.')\n",
    "\n",
    "for layer in base_model.layers:\n",
    "    layer.trainable = False\n",
    "\n",
    "base_model.summary()\n"
   ]
  },
  {
   "cell_type": "code",
   "execution_count": 6,
   "metadata": {
    "collapsed": true
   },
   "outputs": [],
   "source": [
    "# Get input dimensions\n",
    "input_height = base_model.layers[0].input_shape[1]\n",
    "input_width = base_model.layers[0].input_shape[2]"
   ]
  },
  {
   "cell_type": "code",
   "execution_count": 145,
   "metadata": {
    "scrolled": true
   },
   "outputs": [
    {
     "name": "stdout",
     "output_type": "stream",
     "text": [
      "__________________________________________________________________________________________________\n",
      "Layer (type)                    Output Shape         Param #     Connected to                     \n",
      "==================================================================================================\n",
      "input_1 (InputLayer)            (None, 224, 224, 3)  0                                            \n",
      "__________________________________________________________________________________________________\n",
      "block1_conv1 (Conv2D)           (None, 224, 224, 64) 1792        input_1[0][0]                    \n",
      "__________________________________________________________________________________________________\n",
      "block1_conv2 (Conv2D)           (None, 224, 224, 64) 36928       block1_conv1[0][0]               \n",
      "__________________________________________________________________________________________________\n",
      "block1_pool (MaxPooling2D)      (None, 112, 112, 64) 0           block1_conv2[0][0]               \n",
      "__________________________________________________________________________________________________\n",
      "block2_conv1 (Conv2D)           (None, 112, 112, 128 73856       block1_pool[0][0]                \n",
      "__________________________________________________________________________________________________\n",
      "block2_conv2 (Conv2D)           (None, 112, 112, 128 147584      block2_conv1[0][0]               \n",
      "__________________________________________________________________________________________________\n",
      "block2_pool (MaxPooling2D)      (None, 56, 56, 128)  0           block2_conv2[0][0]               \n",
      "__________________________________________________________________________________________________\n",
      "block3_conv1 (Conv2D)           (None, 56, 56, 256)  295168      block2_pool[0][0]                \n",
      "__________________________________________________________________________________________________\n",
      "block3_conv2 (Conv2D)           (None, 56, 56, 256)  590080      block3_conv1[0][0]               \n",
      "__________________________________________________________________________________________________\n",
      "block3_conv3 (Conv2D)           (None, 56, 56, 256)  590080      block3_conv2[0][0]               \n",
      "__________________________________________________________________________________________________\n",
      "block3_pool (MaxPooling2D)      (None, 28, 28, 256)  0           block3_conv3[0][0]               \n",
      "__________________________________________________________________________________________________\n",
      "block4_conv1 (Conv2D)           (None, 28, 28, 512)  1180160     block3_pool[0][0]                \n",
      "__________________________________________________________________________________________________\n",
      "block4_conv2 (Conv2D)           (None, 28, 28, 512)  2359808     block4_conv1[0][0]               \n",
      "__________________________________________________________________________________________________\n",
      "block4_conv3 (Conv2D)           (None, 28, 28, 512)  2359808     block4_conv2[0][0]               \n",
      "__________________________________________________________________________________________________\n",
      "block4_pool (MaxPooling2D)      (None, 14, 14, 512)  0           block4_conv3[0][0]               \n",
      "__________________________________________________________________________________________________\n",
      "block5_conv1 (Conv2D)           (None, 14, 14, 512)  2359808     block4_pool[0][0]                \n",
      "__________________________________________________________________________________________________\n",
      "block5_conv2 (Conv2D)           (None, 14, 14, 512)  2359808     block5_conv1[0][0]               \n",
      "__________________________________________________________________________________________________\n",
      "block5_conv3 (Conv2D)           (None, 14, 14, 512)  2359808     block5_conv2[0][0]               \n",
      "__________________________________________________________________________________________________\n",
      "block5_pool (MaxPooling2D)      (None, 7, 7, 512)    0           block5_conv3[0][0]               \n",
      "__________________________________________________________________________________________________\n",
      "convpool_5_1x1 (Conv2D)         (None, 7, 7, 3)      1539        block5_pool[0][0]                \n",
      "__________________________________________________________________________________________________\n",
      "up_sampling2d_89 (UpSampling2D) (None, 14, 14, 3)    0           convpool_5_1x1[0][0]             \n",
      "__________________________________________________________________________________________________\n",
      "convpool_4_1x1 (Conv2D)         (None, 14, 14, 3)    1539        block4_pool[0][0]                \n",
      "__________________________________________________________________________________________________\n",
      "add_111 (Add)                   (None, 14, 14, 3)    0           up_sampling2d_89[0][0]           \n",
      "                                                                 convpool_4_1x1[0][0]             \n",
      "__________________________________________________________________________________________________\n",
      "conv2d_transpose_23 (Conv2DTran (None, 28, 28, 3)    84          add_111[0][0]                    \n",
      "__________________________________________________________________________________________________\n",
      "up_layer_4_and_5_bn (BatchNorma (None, 28, 28, 3)    12          conv2d_transpose_23[0][0]        \n",
      "__________________________________________________________________________________________________\n",
      "convpool_3_1x1 (Conv2D)         (None, 28, 28, 3)    771         block3_pool[0][0]                \n",
      "__________________________________________________________________________________________________\n",
      "add_112 (Add)                   (None, 28, 28, 3)    0           up_layer_4_and_5_bn[0][0]        \n",
      "                                                                 convpool_3_1x1[0][0]             \n",
      "__________________________________________________________________________________________________\n",
      "up_sampling2d_90 (UpSampling2D) (None, 56, 56, 3)    0           add_112[0][0]                    \n",
      "__________________________________________________________________________________________________\n",
      "convpool_2_1x1 (Conv2D)         (None, 56, 56, 3)    387         block2_pool[0][0]                \n",
      "__________________________________________________________________________________________________\n",
      "add_113 (Add)                   (None, 56, 56, 3)    0           up_sampling2d_90[0][0]           \n",
      "                                                                 convpool_2_1x1[0][0]             \n",
      "__________________________________________________________________________________________________\n",
      "up_sampling2d_91 (UpSampling2D) (None, 112, 112, 3)  0           add_113[0][0]                    \n",
      "__________________________________________________________________________________________________\n",
      "up_layer_2_to_5_bn (BatchNormal (None, 112, 112, 3)  12          up_sampling2d_91[0][0]           \n",
      "__________________________________________________________________________________________________\n",
      "convpool_1_1x1 (Conv2D)         (None, 112, 112, 3)  195         block1_pool[0][0]                \n",
      "__________________________________________________________________________________________________\n",
      "add_114 (Add)                   (None, 112, 112, 3)  0           up_layer_2_to_5_bn[0][0]         \n",
      "                                                                 convpool_1_1x1[0][0]             \n",
      "__________________________________________________________________________________________________\n",
      "conv_1_1x1 (Conv2D)             (None, 224, 224, 3)  195         block1_conv1[0][0]               \n",
      "__________________________________________________________________________________________________\n",
      "up_sampling2d_92 (UpSampling2D) (None, 224, 224, 3)  0           add_114[0][0]                    \n",
      "__________________________________________________________________________________________________\n",
      "add_115 (Add)                   (None, 224, 224, 3)  0           conv_1_1x1[0][0]                 \n",
      "                                                                 up_sampling2d_92[0][0]           \n",
      "==================================================================================================\n",
      "Total params: 14,719,422\n",
      "Trainable params: 4,722\n",
      "Non-trainable params: 14,714,700\n",
      "__________________________________________________________________________________________________\n"
     ]
    }
   ],
   "source": [
    "# Extract pooling layers out of VGG-16\n",
    "num_classes = len(TrainingImage.COLOR.keys())\n",
    "\n",
    "\n",
    "from keras.layers import Dense, Conv2D, UpSampling2D, Activation\n",
    "from keras.layers import Conv2DTranspose, Add, Flatten, Lambda\n",
    "from keras.layers import BatchNormalization, Reshape, Permute, Dropout\n",
    "from keras import backend as K\n",
    "from keras import regularizers\n",
    "\n",
    "\n",
    "\n",
    "def UpLayer(num_classes, activation_layer, layer):\n",
    "    simpleUpSample = True\n",
    "    if not simpleUpSample :\n",
    "        return Conv2DTranspose(num_classes, (3, 3), activation=activation_layer,\n",
    "                            padding='same', strides=(2,2)  )(layer)\n",
    "    else:\n",
    "        return UpSampling2D()(layer)\n",
    "\n",
    "activation_layer = 'elu'\n",
    "\n",
    "# Layer 5\n",
    "layer_5_1x1 = Conv2D(num_classes, 1, padding='same', name='convpool_5_1x1',\n",
    "               activation=activation_layer)(base_model.get_layer('block5_pool').output)\n",
    "\n",
    "up_layer_5 = UpLayer(num_classes, activation_layer, layer_5_1x1)\n",
    "\n",
    "#up_layer_5_bn = BatchNormalization(axis=3, name='up_layer_5_bn')(up_layer_5)\n",
    "\n",
    "# Layer 4\n",
    "layer_4_1x1 = Conv2D(num_classes, 1, padding='same', name='convpool_4_1x1',\n",
    "               activation=activation_layer)(base_model.get_layer('block4_pool').output)\n",
    "\n",
    "merge_4_and_5 = Add()([up_layer_5, layer_4_1x1])\n",
    "\n",
    "\n",
    "up_layer_4_and_5 = Conv2DTranspose(num_classes, (3, 3), activation=activation_layer,\n",
    "                            padding='same', strides=(2,2))(merge_4_and_5)\n",
    "\n",
    "up_layer_4_and_5 = BatchNormalization(axis=3, name='up_layer_4_and_5_bn')(up_layer_4_and_5)\n",
    "\n",
    "# Layer 3\n",
    "layer_3_1x1 = Conv2D(num_classes, 1, padding='same', name='convpool_3_1x1',\n",
    "               activation=activation_layer)(base_model.get_layer('block3_pool').output)\n",
    "\n",
    "merge_3_to_5 = Add()([up_layer_4_and_5, layer_3_1x1])\n",
    "\n",
    "up_layer_3_to_5 = UpLayer(num_classes, activation_layer, merge_3_to_5)\n",
    "\n",
    "\n",
    "\n",
    "# Layer 2\n",
    "layer_2_1x1 = Conv2D(num_classes, 1, padding='same', name='convpool_2_1x1',\n",
    "               activation=activation_layer)(base_model.get_layer('block2_pool').output)\n",
    "\n",
    "merge_2_to_5 = Add()([up_layer_3_to_5, layer_2_1x1])\n",
    "\n",
    "\n",
    "\n",
    "up_layer_2_to_5 =UpLayer(num_classes, activation_layer,merge_2_to_5)\n",
    "\n",
    "\n",
    "up_layer_2_to_5 = BatchNormalization(axis=3, \n",
    "                                        name='up_layer_2_to_5_bn')(up_layer_2_to_5)\n",
    "\n",
    "# Layer 1\n",
    "layer_1_1x1 = Conv2D(num_classes, 1, padding='same', name='convpool_1_1x1',\n",
    "               activation=activation_layer)(base_model.get_layer('block1_pool').output)\n",
    "\n",
    "merge_1_to_5 = Add()([up_layer_2_to_5, layer_1_1x1])\n",
    "\n",
    "up_layer_1_to_5 =UpLayer(num_classes, activation_layer, merge_1_to_5)\n",
    "\n",
    "# Final layer\n",
    "final_1_1x1 = Conv2D(num_classes, 1, padding='same', name='conv_1_1x1',\n",
    "               activation=activation_layer)(base_model.get_layer('block1_conv1').output)\n",
    "\n",
    "final_merge = Add()([final_1_1x1, up_layer_1_to_5])\n",
    "\n",
    "def depth_softmax(matrix):\n",
    "    \"\"\" The softmax activation function doesnt seeem to perform as well as the dice coeff \"\"\"\n",
    "    sigmoid = lambda x: 1 / (1 + K.exp(-x))\n",
    "    sigmoided_matrix = sigmoid(matrix)\n",
    "    sum_sig = K.sum(sigmoided_matrix, axis=3)\n",
    "    sum_sig_reshaped = K.reshape(sum_sig,(-1,input_height,input_height,1))\n",
    "    repeat = num_classes\n",
    "    sum_sigmoided_repeated = K.repeat_elements(sum_sig_reshaped, repeat, axis=3)\n",
    "    softmax_matrix = sigmoided_matrix / sum_sigmoided_repeated\n",
    "    return softmax_matrix\n",
    "\n",
    "\n",
    "seg_out = Lambda(depth_softmax, name='seg_out')(final_merge)\n",
    "\n",
    "# Build a classifier model to put on top of the convolutional model\n",
    "\n",
    "# model = Model(inputs=base_model.input, outputs=seg_out)\n",
    "\n",
    "# https://github.com/jocicmarko/ultrasound-nerve-segmentation/blob/9d0fb65d67334dc332816bcb30d317c2de8b9137/train.py#L23\n",
    "\n",
    "def dice_coef(y_true, y_pred):\n",
    "    smooth = 1.0e-3\n",
    "    y_true_f = K.flatten(y_true)\n",
    "    y_pred_f = K.flatten(y_pred)\n",
    "    intersection = K.sum(y_true_f * y_pred_f)\n",
    "    return (2. * intersection + smooth) / (K.sum(y_true_f) + K.sum(y_pred_f) + smooth)\n",
    "\n",
    "\n",
    "def dice_coef_loss(y_true, y_pred):\n",
    "    return - K.log(1 + dice_coef(y_true, y_pred))\n",
    "\n",
    "\n",
    "model = Model(inputs=base_model.input, outputs=final_merge)\n",
    "\n",
    "\n",
    "\n",
    "from keras.utils import plot_model\n",
    "plot_model(model, to_file='model.png')\n",
    "\n",
    "#for i in model.layers:\n",
    "#    print(i.trainable)\n",
    "\n",
    "model.summary()"
   ]
  },
  {
   "cell_type": "code",
   "execution_count": 146,
   "metadata": {},
   "outputs": [
    {
     "name": "stdout",
     "output_type": "stream",
     "text": [
      "Epoch 1/4\n",
      "512/512 [==============================] - 9s 18ms/step - loss: -0.3666 - dice_coef: 0.4466\n",
      "Epoch 2/4\n",
      "512/512 [==============================] - 7s 13ms/step - loss: -0.5864 - dice_coef: 0.8068\n",
      "Epoch 3/4\n",
      "512/512 [==============================] - 7s 13ms/step - loss: -0.9519 - dice_coef: 1.6009\n",
      "Epoch 4/4\n",
      "512/512 [==============================] - 7s 13ms/step - loss: -1.0876 - dice_coef: 1.9676\n"
     ]
    }
   ],
   "source": [
    "from keras import optimizers\n",
    "optimizer_selected = optimizers.Adam(lr=1e-3)\n",
    "\n",
    "#model.compile(optimizer=optimizer_selected, loss='categorical_crossentropy')\n",
    "model.compile(optimizer=optimizer_selected, loss=dice_coef_loss, metrics=[dice_coef])\n",
    "\n",
    "class_weight = {TrainingImage.BLACK_CLASS: 1.0, TrainingImage.WHITE_CLASS: 3.0, TrainingImage.RED_CLASS: 3.0}\n",
    "\n",
    "\n",
    "history = model.fit(x=X_train, y=y_train, batch_size=20, epochs=4, \n",
    "                    validation_split=0.0, validation_data=None, shuffle=True,\n",
    "                    class_weight=None, sample_weight=None, initial_epoch=0,\n",
    "                    steps_per_epoch=None, validation_steps=None)\n"
   ]
  },
  {
   "cell_type": "code",
   "execution_count": 147,
   "metadata": {},
   "outputs": [
    {
     "data": {
      "image/png": "[encoded data removed]",
      "text/plain": [
       "<matplotlib.figure.Figure at 0x7fa89a1a96a0>"
      ]
     },
     "metadata": {},
     "output_type": "display_data"
    },
    {
     "data": {
      "image/png": "[encoded data removed]",
      "text/plain": [
       "<matplotlib.figure.Figure at 0x7fa89aa23860>"
      ]
     },
     "metadata": {},
     "output_type": "display_data"
    }
   ],
   "source": [
    "# Plot loss function\n",
    "# plt.plot(history.epoch,history.history['loss'])\n",
    "# plt.legend(('loss'))\n",
    "# plt.grid('on')\n",
    "# plt.show()\n",
    "\n",
    "img = X_train[6]\n",
    "seg= model.predict(img.reshape(1,224,224,3))\n",
    "\n",
    "seg = seg.reshape(224,224, num_classes)\n",
    "\n",
    "seg_classes=seg.argmax(axis=2)\n",
    "\n",
    "plt.imshow(img)\n",
    "plt.show()\n",
    "\n",
    "fig = plt.figure(1)\n",
    "fig.clf()\n",
    "ax = fig.add_subplot(2,2,1)\n",
    "imsh = ax.imshow( seg[:,:,0], cmap='magma')\n",
    "fig.colorbar(imsh)\n",
    "\n",
    "ax = fig.add_subplot(2,2,2)\n",
    "imsh = ax.imshow( seg[:,:,1], cmap='magma')\n",
    "fig.colorbar(imsh)\n",
    "\n",
    "ax = fig.add_subplot(2,2,3)\n",
    "imsh = ax.imshow( seg[:,:,2], cmap='magma')\n",
    "fig.colorbar(imsh)\n",
    "\n",
    "ax = fig.add_subplot(2,2,4)\n",
    "imsh = ax.imshow( seg_classes, cmap='magma' )\n",
    "fig.colorbar(imsh)\n",
    "plt.show()\n",
    "\n"
   ]
  },
  {
   "cell_type": "code",
   "execution_count": null,
   "metadata": {},
   "outputs": [],
   "source": [
    "plt.imshow(y_train[6][:,:,0])\n",
    "plt.colorbar()\n",
    "plt.show()"
   ]
  },
  {
   "cell_type": "code",
   "execution_count": null,
   "metadata": {
    "collapsed": true
   },
   "outputs": [],
   "source": []
  }
 ],
 "metadata": {
  "kernelspec": {
   "display_name": "Python [default]",
   "language": "python",
   "name": "python3"
  },
  "language_info": {
   "codemirror_mode": {
    "name": "ipython",
    "version": 3
   },
   "file_extension": ".py",
   "mimetype": "text/x-python",
   "name": "python",
   "nbconvert_exporter": "python",
   "pygments_lexer": "ipython3",
   "version": "3.5.2"
  }
 },
 "nbformat": 4,
 "nbformat_minor": 2
}

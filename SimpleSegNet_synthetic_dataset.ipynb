{
 "cells": [
  {
   "cell_type": "markdown",
   "metadata": {},
   "source": [
    "# Simple implementation of Simple Traffic Light Segmentation Neural Net\n",
    "\n"
   ]
  },
  {
   "cell_type": "markdown",
   "metadata": {},
   "source": [
    "# Datasets\n",
    "\n",
    "I will create a dataset of generic shapes and train the neural net to segment the images first by colour and then by shapes.\n"
   ]
  },
  {
   "cell_type": "markdown",
   "metadata": {},
   "source": [
    "## Colour data set"
   ]
  },
  {
   "cell_type": "code",
   "execution_count": 1,
   "metadata": {
    "collapsed": true
   },
   "outputs": [],
   "source": [
    "import numpy as np\n",
    "import pandas as pd\n",
    "import re\n",
    "\n",
    "\n",
    "# Show images\n",
    "import matplotlib.pyplot as plt\n",
    "import matplotlib.image as mpimg\n",
    "import cv2\n",
    "import glob\n",
    "\n",
    "import random"
   ]
  },
  {
   "cell_type": "code",
   "execution_count": 2,
   "metadata": {},
   "outputs": [
    {
     "data": {
      "image/png": "[encoded data removed]",
      "text/plain": [
       "<matplotlib.figure.Figure at 0x7f2760a58e80>"
      ]
     },
     "metadata": {},
     "output_type": "display_data"
    },
    {
     "data": {
      "image/png": "[encoded data removed]",
      "text/plain": [
       "<matplotlib.figure.Figure at 0x7f2760a58e48>"
      ]
     },
     "metadata": {},
     "output_type": "display_data"
    },
    {
     "data": {
      "image/png": "[encoded data removed]",
      "text/plain": [
       "<matplotlib.figure.Figure at 0x7f27556cdcf8>"
      ]
     },
     "metadata": {},
     "output_type": "display_data"
    },
    {
     "name": "stdout",
     "output_type": "stream",
     "text": [
      "Image size (224, 224, 3)\n"
     ]
    }
   ],
   "source": [
    "class TrainingImage:\n",
    "    \"\"\" \n",
    "    This class handles the creation of training\n",
    "    images and the associated label image\n",
    "    \"\"\"\n",
    "    #Colors classes    \n",
    "    BLACK_CLASS = 0\n",
    "    WHITE_CLASS = 1\n",
    "    RED_CLASS = 2\n",
    "    LIME_CLASS = 3\n",
    "    BLUE_CLASS = 4\n",
    "    YELLOW_CLASS = 5\n",
    "    CYAN_CLASS = 6\n",
    "    MAGENTA_CLASS = 7\n",
    "    SILVER_CLASS = 8\n",
    "    GRAY_CLASS = 9\n",
    "    MAROON_CLASS = 10\n",
    "    OLIVE_CLASS = 11\n",
    "    GREEN_CLASS = 12\n",
    "    PURPLE_CLASS = 13\n",
    "    TEAL_CLASS = 14\n",
    "    NAVY_CLASS = 15\n",
    "    \n",
    "    COLOR = {\n",
    "        BLACK_CLASS : (0,0,0),\n",
    "        WHITE_CLASS : (255,255,255),\n",
    "        RED_CLASS : (255,0,0),\n",
    "#         LIME_CLASS : (0,255,0),\n",
    "#         BLUE_CLASS : (0,0,255),\n",
    "#         YELLOW_CLASS : (255,255,0),\n",
    "#         CYAN_CLASS : (0,255,255),\n",
    "#         MAGENTA_CLASS : (255,0,255),\n",
    "#         SILVER_CLASS : (192,192,192),\n",
    "#         GRAY_CLASS : (128,128,128),\n",
    "#         MAROON_CLASS : (128,0,0),\n",
    "#         OLIVE_CLASS : (128,128,0),\n",
    "#         GREEN_CLASS : (0,128,0),\n",
    "#         PURPLE_CLASS : (128,0,128),\n",
    "#         TEAL_CLASS : (0,128,128),\n",
    "#         NAVY_CLASS : (0,0,128),\n",
    "    }\n",
    "    \n",
    "    NO_SHAPE = 0\n",
    "    RECTANGLE_CLASS = 1\n",
    "    CIRCLE_CLASS = 2\n",
    "    \n",
    "    MIN_SIZE = 10\n",
    "    MAX_SIZE = 20\n",
    "    \n",
    "    \n",
    "    def __init__(self, size=(224,224, 3), backgd_color_class=BLACK_CLASS):\n",
    "        self.size = size\n",
    "        self.createImageBackground(backgd_color_class)\n",
    "        \n",
    "    def clear(self):\n",
    "        self.image = np.zeros(self.size, dtype=np.uint8)\n",
    "        self.label = np.zeros(self.size[0:2] + (len(TrainingImage.COLOR.keys()), ) , dtype=np.uint8)\n",
    "        self.label_shape = np.zeros(self.size[0:2] + (self.CIRCLE_CLASS+1, ) , dtype=np.uint8)\n",
    "        \n",
    "    def createImageBackground(self, backgd_color_class):\n",
    "        self.backgd_color_class = backgd_color_class\n",
    "        self.clear()\n",
    "        for channel in range(0, 3):\n",
    "            self.image[:,:,channel] = TrainingImage.COLOR[self.backgd_color_class][channel]\n",
    "        self.label[:,:, self.backgd_color_class] = 1\n",
    "    \n",
    "    def createRectangle(self, pt1, pt2, color_class=WHITE_CLASS):\n",
    "        cv2.rectangle(self.image, \n",
    "                      pt1[::-1], pt2[::-1], TrainingImage.COLOR[color_class], thickness=cv2.FILLED)\n",
    "        self.label[pt1[0]:pt2[0],pt1[1]:pt2[1], :] =  0 # Clear exisiting labels in target color position\n",
    "        self.label[pt1[0]:pt2[0],pt1[1]:pt2[1], color_class] =  1 # Set exisiting labels in target color class position\n",
    "        \n",
    "        \n",
    "        self.label_shape[pt1[0]:pt2[0],pt1[1]:pt2[1], :] =  0 # Clear exisiting labels in target position\n",
    "        self.label_shape[pt1[0]:pt2[0],pt1[1]:pt2[1], self.RECTANGLE_CLASS] =  1 # Set exisiting labels in target shape class position\n",
    "        \n",
    "    def createCircle(self, center, radius, color_class=WHITE_CLASS):\n",
    "        cv2.circle(self.image, center[::-1], radius, TrainingImage.COLOR[color_class], thickness=cv2.FILLED) \n",
    "        # Clear exisiting labels in target position\n",
    "        \n",
    "        for chan in range(self.label_shape.shape[2]):\n",
    "            label_chan = np.array(self.label_shape[:,:,chan])\n",
    "            self.label_shape[:,:,chan] = cv2.circle(label_chan, center[::-1], radius,\n",
    "                                                    0, thickness=cv2.FILLED)\n",
    "        \n",
    "        for chan in range(self.label.shape[2]):\n",
    "            label_chan = np.array(self.label[:,:,chan])\n",
    "            self.label[:,:,chan] = cv2.circle(label_chan, center[::-1], radius,\n",
    "                                                    0, thickness=cv2.FILLED)\n",
    "            \n",
    "        # Set label pixel for the shape class channel\n",
    "        self.label_shape[:,:, self.CIRCLE_CLASS] = cv2.circle(np.array(self.label[:,:, self.CIRCLE_CLASS]), \n",
    "                                                       center[::-1], radius, 1, thickness=cv2.FILLED)\n",
    "        # Set label pixel for the color class channel\n",
    "        self.label[:,:,color_class] = cv2.circle(np.array(self.label[:,:,color_class]), \n",
    "                                                       center[::-1], radius, 1, thickness=cv2.FILLED)\n",
    "    \n",
    "    def addRandRectangle(self, color_class=WHITE_CLASS):\n",
    "        image_size = self.image.shape\n",
    "        pt1 = (random.randint(0, image_size[0]-self.MAX_SIZE), \n",
    "               random.randint(0, image_size[1] - self.MAX_SIZE))\n",
    "        pt2 = (random.randint(pt1[0]+self.MIN_SIZE, min(image_size[0]-1, pt1[0]+self.MAX_SIZE) ),\n",
    "               random.randint(  pt1[1]+self.MIN_SIZE, min(image_size[1]-1, pt1[1]+self.MAX_SIZE) ))\n",
    "        self.createRectangle( pt1, pt2, color_class=color_class)\n",
    "        \n",
    "    def addRandCircle(self, color_class=WHITE_CLASS):\n",
    "        image_size = self.image.shape\n",
    "        center = (random.randint(self.MIN_SIZE, image_size[0]-self.MAX_SIZE), \n",
    "                  random.randint(self.MIN_SIZE, image_size[1]-self.MAX_SIZE))\n",
    "        radius = random.randint(self.MIN_SIZE//2, self.MAX_SIZE//2)\n",
    "        self.createCircle( center, radius, color_class=color_class)\n",
    "\n",
    "\n",
    "image_size = (224,224, 3)\n",
    "trainim = TrainingImage(size=image_size , backgd_color_class=TrainingImage.BLACK_CLASS)\n",
    "trainim.createRectangle( (50,150) , (150,200), color_class=TrainingImage.RED_CLASS)\n",
    "trainim.addRandRectangle(TrainingImage.WHITE_CLASS)\n",
    "trainim.addRandCircle(TrainingImage.RED_CLASS)\n",
    "#trainim.createCircle( (150, 20), 100 )\n",
    "\n",
    "# Plot background \n",
    "plt.imshow(trainim.image)\n",
    "plt.title('image')\n",
    "plt.show()\n",
    "\n",
    "# Plot background \n",
    "plt.imshow(trainim.label.argmax(axis=2), cmap='hot')\n",
    "plt.title('label color')\n",
    "plt.show()\n",
    "\n",
    "plt.imshow(trainim.label_shape.argmax(axis=2), cmap='hot')\n",
    "plt.title('label shape')\n",
    "plt.show()\n",
    "\n",
    "\n",
    "\n",
    "\n",
    "print('Image size {}'.format(trainim.image.shape))"
   ]
  },
  {
   "cell_type": "code",
   "execution_count": 3,
   "metadata": {},
   "outputs": [
    {
     "name": "stdout",
     "output_type": "stream",
     "text": [
      "Total size of the use of memory : 147.0MB\n",
      "sum_classes [23498969  1080378  1110765] count_all_pixel_images 77070336\n",
      "classes_freq [ 0.3049029   0.01401808  0.01441235]\n",
      "median balancing [ 0.04726867  1.02812627  1.        ]\n"
     ]
    }
   ],
   "source": [
    "# Generate color training dataset\n",
    "from functools import reduce\n",
    "\n",
    "\n",
    "NUM_TRAIN = 512\n",
    "num_classes = len(TrainingImage.COLOR.keys())\n",
    "image_size = (224,224, 3)\n",
    "label_size = (224,224, num_classes)\n",
    "size_in_memory = 1\n",
    "image_mem = reduce(lambda a,b : a*b ,image_size, 1)\n",
    "label_mem = reduce(lambda a,b : a*b ,label_size, 1)\n",
    "total_train_mem = NUM_TRAIN * (image_mem + label_mem)\n",
    "print('Total size of the use of memory : {}MB'.format(total_train_mem/(1024*1024)))\n",
    "\n",
    "\n",
    "\n",
    "def generateRectangleData(X, y, num_samples):\n",
    "    trainim = TrainingImage(size=image_size)\n",
    "    for i in range(num_samples):\n",
    "        trainim.createImageBackground(TrainingImage.BLACK_CLASS)\n",
    "        for j in range(20):\n",
    "            trainim.addRandRectangle(color_class=random.randint(1, num_classes-1))\n",
    "\n",
    "        X[i] = trainim.image\n",
    "        y[i] = trainim.label\n",
    "    return X, y\n",
    "\n",
    "X_TRAIN_SIZE = (NUM_TRAIN,) + image_size\n",
    "Y_TRAIN_SIZE = (NUM_TRAIN,) + image_size[0:2] + (num_classes, )\n",
    "X_train = np.zeros(X_TRAIN_SIZE, dtype=np.uint8)\n",
    "y_train = np.zeros(Y_TRAIN_SIZE, dtype=np.uint8)\n",
    "X_train, y_train = generateRectangleData(X_train, y_train, NUM_TRAIN)\n",
    "\n",
    "NUM_VAL = 64\n",
    "X_VAL_SIZE = (NUM_VAL,) + image_size\n",
    "Y_VAL_SIZE = (NUM_VAL,) + image_size[0:2] + (num_classes, )\n",
    "X_val = np.zeros(X_VAL_SIZE, dtype=np.uint8)\n",
    "y_val = np.zeros(Y_VAL_SIZE, dtype=np.uint8)\n",
    "X_val, y_val = generateRectangleData(X_val, y_val, NUM_VAL)\n",
    "\n",
    "# Training statistics\n",
    "count_pixel_classes = y_train.astype(np.uint64).sum(axis=0).sum(axis=0).sum(axis=0)\n",
    "count_all_pixel_images = np.prod(y_train.shape)\n",
    "print('sum_classes',count_pixel_classes,'count_all_pixel_images',count_all_pixel_images)\n",
    "\n",
    "classes_freq = count_pixel_classes/count_all_pixel_images\n",
    "print('classes_freq',classes_freq)\n",
    "\n",
    "# Median balancing for segmentation https://arxiv.org/pdf/1511.00561.pdf\n",
    "median_balancing_weights = np.median(classes_freq)/classes_freq\n",
    "print('median balancing', median_balancing_weights)"
   ]
  },
  {
   "cell_type": "code",
   "execution_count": 4,
   "metadata": {
    "scrolled": false
   },
   "outputs": [
    {
     "data": {
      "image/png": "[encoded data removed]",
      "text/plain": [
       "<matplotlib.figure.Figure at 0x7f27556d6eb8>"
      ]
     },
     "metadata": {},
     "output_type": "display_data"
    },
    {
     "data": {
      "image/png": "[encoded data removed]",
      "text/plain": [
       "<matplotlib.figure.Figure at 0x7f275b193710>"
      ]
     },
     "metadata": {},
     "output_type": "display_data"
    },
    {
     "data": {
      "image/png": "[encoded data removed]",
      "text/plain": [
       "<matplotlib.figure.Figure at 0x7f27556cd4a8>"
      ]
     },
     "metadata": {},
     "output_type": "display_data"
    },
    {
     "data": {
      "image/png": "[encoded data removed]",
      "text/plain": [
       "<matplotlib.figure.Figure at 0x7f275579f4a8>"
      ]
     },
     "metadata": {},
     "output_type": "display_data"
    }
   ],
   "source": [
    "# Plot color evaluation dataset\n",
    "\n",
    "for idx in range(3,7):\n",
    "\n",
    "    fig = plt.figure(1)\n",
    "    ax = fig.add_subplot(1,2,1)\n",
    "    imsh = ax.imshow( X_train[idx], cmap='magma')\n",
    "\n",
    "    ax = fig.add_subplot(1,2,2)\n",
    "    imsh = ax.imshow( y_train[idx,:,:,:].argmax(axis=2), cmap='magma')\n",
    "    plt.colorbar(imsh)\n",
    "    plt.show()\n"
   ]
  },
  {
   "cell_type": "code",
   "execution_count": 5,
   "metadata": {},
   "outputs": [
    {
     "name": "stdout",
     "output_type": "stream",
     "text": [
      "[ 0.04726867  1.02812627  1.        ]\n",
      "tile\n",
      "[[[ 0.04726867  1.02812627  1.        ]\n",
      "  [ 0.04726867  1.02812627  1.        ]]]\n"
     ]
    }
   ],
   "source": [
    "w=median_balancing_weights\n",
    "print(w)\n",
    "#w = np.reshape(w,(1,1,3))\n",
    "#print('reshaped',w)\n",
    "print('tile')\n",
    "print(np.tile(w,(1,2,1)) )"
   ]
  },
  {
   "cell_type": "markdown",
   "metadata": {},
   "source": [
    "\n"
   ]
  },
  {
   "cell_type": "markdown",
   "metadata": {},
   "source": [
    "# Model\n",
    "The original paper uses VGG for implementing the detector.\n",
    "\n",
    "\n",
    "TODO : Will try experimenting with Xception and MobileNet  \n",
    "https://keras.io/applications/#usage-examples-for-image-classification-models\n"
   ]
  },
  {
   "cell_type": "code",
   "execution_count": 6,
   "metadata": {
    "scrolled": false
   },
   "outputs": [
    {
     "name": "stderr",
     "output_type": "stream",
     "text": [
      "Using TensorFlow backend.\n"
     ]
    },
    {
     "name": "stdout",
     "output_type": "stream",
     "text": [
      "Pre-trained model loaded.\n",
      "weights.shape (224, 224, 3)\n",
      "sigmoided_matrix_in.shape (?, 224, 224, 3)\n",
      "sigmoided_matrix.shape (?, 224, 224, 3)\n",
      "sum_sig.shape (?, 224, 224)\n",
      "weights.shape (224, 224, 3)\n",
      "sigmoided_matrix_in.shape (?, 224, 224, 3)\n",
      "sigmoided_matrix.shape (?, 224, 224, 3)\n",
      "sum_sig.shape (?, 224, 224)\n",
      "__________________________________________________________________________________________________\n",
      "Layer (type)                    Output Shape         Param #     Connected to                     \n",
      "==================================================================================================\n",
      "input_1 (InputLayer)            (None, 224, 224, 3)  0                                            \n",
      "__________________________________________________________________________________________________\n",
      "block1_conv1 (Conv2D)           (None, 224, 224, 64) 1792        input_1[0][0]                    \n",
      "__________________________________________________________________________________________________\n",
      "block1_conv2 (Conv2D)           (None, 224, 224, 64) 36928       block1_conv1[0][0]               \n",
      "__________________________________________________________________________________________________\n",
      "block1_pool (MaxPooling2D)      (None, 112, 112, 64) 0           block1_conv2[0][0]               \n",
      "__________________________________________________________________________________________________\n",
      "block2_conv1 (Conv2D)           (None, 112, 112, 128 73856       block1_pool[0][0]                \n",
      "__________________________________________________________________________________________________\n",
      "block2_conv2 (Conv2D)           (None, 112, 112, 128 147584      block2_conv1[0][0]               \n",
      "__________________________________________________________________________________________________\n",
      "block2_pool (MaxPooling2D)      (None, 56, 56, 128)  0           block2_conv2[0][0]               \n",
      "__________________________________________________________________________________________________\n",
      "block3_conv1 (Conv2D)           (None, 56, 56, 256)  295168      block2_pool[0][0]                \n",
      "__________________________________________________________________________________________________\n",
      "block3_conv2 (Conv2D)           (None, 56, 56, 256)  590080      block3_conv1[0][0]               \n",
      "__________________________________________________________________________________________________\n",
      "block3_conv3 (Conv2D)           (None, 56, 56, 256)  590080      block3_conv2[0][0]               \n",
      "__________________________________________________________________________________________________\n",
      "block3_pool (MaxPooling2D)      (None, 28, 28, 256)  0           block3_conv3[0][0]               \n",
      "__________________________________________________________________________________________________\n",
      "block4_conv1 (Conv2D)           (None, 28, 28, 512)  1180160     block3_pool[0][0]                \n",
      "__________________________________________________________________________________________________\n",
      "block4_conv2 (Conv2D)           (None, 28, 28, 512)  2359808     block4_conv1[0][0]               \n",
      "__________________________________________________________________________________________________\n",
      "block4_conv3 (Conv2D)           (None, 28, 28, 512)  2359808     block4_conv2[0][0]               \n",
      "__________________________________________________________________________________________________\n",
      "block4_pool (MaxPooling2D)      (None, 14, 14, 512)  0           block4_conv3[0][0]               \n",
      "__________________________________________________________________________________________________\n",
      "block5_conv1 (Conv2D)           (None, 14, 14, 512)  2359808     block4_pool[0][0]                \n",
      "__________________________________________________________________________________________________\n",
      "block5_conv2 (Conv2D)           (None, 14, 14, 512)  2359808     block5_conv1[0][0]               \n",
      "__________________________________________________________________________________________________\n",
      "block5_conv3 (Conv2D)           (None, 14, 14, 512)  2359808     block5_conv2[0][0]               \n",
      "__________________________________________________________________________________________________\n",
      "block5_pool (MaxPooling2D)      (None, 7, 7, 512)    0           block5_conv3[0][0]               \n",
      "__________________________________________________________________________________________________\n",
      "block5_pool_1x1 (Conv2D)        (None, 7, 7, 3)      1539        block5_pool[0][0]                \n",
      "__________________________________________________________________________________________________\n",
      "leaky_re_lu_1 (LeakyReLU)       (None, 7, 7, 3)      0           block5_pool_1x1[0][0]            \n",
      "__________________________________________________________________________________________________\n",
      "block4_pool_1x1 (Conv2D)        (None, 14, 14, 3)    1539        block4_pool[0][0]                \n",
      "__________________________________________________________________________________________________\n",
      "up_sampling2d_1 (UpSampling2D)  (None, 14, 14, 3)    0           leaky_re_lu_1[0][0]              \n",
      "__________________________________________________________________________________________________\n",
      "leaky_re_lu_2 (LeakyReLU)       (None, 14, 14, 3)    0           block4_pool_1x1[0][0]            \n",
      "__________________________________________________________________________________________________\n",
      "add_1 (Add)                     (None, 14, 14, 3)    0           up_sampling2d_1[0][0]            \n",
      "                                                                 leaky_re_lu_2[0][0]              \n",
      "__________________________________________________________________________________________________\n",
      "up_sampling2d_2 (UpSampling2D)  (None, 28, 28, 3)    0           add_1[0][0]                      \n",
      "__________________________________________________________________________________________________\n",
      "leaky_re_lu_3 (LeakyReLU)       (None, 28, 28, 3)    0           up_sampling2d_2[0][0]            \n",
      "__________________________________________________________________________________________________\n",
      "block3_pool_1x1 (Conv2D)        (None, 28, 28, 3)    771         block3_pool[0][0]                \n",
      "__________________________________________________________________________________________________\n",
      "up_layer_4_and_5_bn (BatchNorma (None, 28, 28, 3)    12          leaky_re_lu_3[0][0]              \n",
      "__________________________________________________________________________________________________\n",
      "leaky_re_lu_4 (LeakyReLU)       (None, 28, 28, 3)    0           block3_pool_1x1[0][0]            \n",
      "__________________________________________________________________________________________________\n",
      "add_2 (Add)                     (None, 28, 28, 3)    0           up_layer_4_and_5_bn[0][0]        \n",
      "                                                                 leaky_re_lu_4[0][0]              \n",
      "__________________________________________________________________________________________________\n",
      "up_sampling2d_3 (UpSampling2D)  (None, 56, 56, 3)    0           add_2[0][0]                      \n",
      "__________________________________________________________________________________________________\n",
      "block2_pool_1x1 (Conv2D)        (None, 56, 56, 3)    387         block2_pool[0][0]                \n",
      "__________________________________________________________________________________________________\n",
      "leaky_re_lu_5 (LeakyReLU)       (None, 56, 56, 3)    0           up_sampling2d_3[0][0]            \n",
      "__________________________________________________________________________________________________\n",
      "leaky_re_lu_6 (LeakyReLU)       (None, 56, 56, 3)    0           block2_pool_1x1[0][0]            \n",
      "__________________________________________________________________________________________________\n",
      "add_3 (Add)                     (None, 56, 56, 3)    0           leaky_re_lu_5[0][0]              \n",
      "                                                                 leaky_re_lu_6[0][0]              \n",
      "__________________________________________________________________________________________________\n",
      "up_sampling2d_4 (UpSampling2D)  (None, 112, 112, 3)  0           add_3[0][0]                      \n",
      "__________________________________________________________________________________________________\n",
      "leaky_re_lu_7 (LeakyReLU)       (None, 112, 112, 3)  0           up_sampling2d_4[0][0]            \n",
      "__________________________________________________________________________________________________\n",
      "block1_pool_1x1 (Conv2D)        (None, 112, 112, 3)  195         block1_pool[0][0]                \n",
      "__________________________________________________________________________________________________\n",
      "up_layer_2_to_5_bn (BatchNormal (None, 112, 112, 3)  12          leaky_re_lu_7[0][0]              \n",
      "__________________________________________________________________________________________________\n",
      "leaky_re_lu_8 (LeakyReLU)       (None, 112, 112, 3)  0           block1_pool_1x1[0][0]            \n",
      "__________________________________________________________________________________________________\n",
      "add_4 (Add)                     (None, 112, 112, 3)  0           up_layer_2_to_5_bn[0][0]         \n",
      "                                                                 leaky_re_lu_8[0][0]              \n",
      "__________________________________________________________________________________________________\n",
      "conv_1_1x1 (Conv2D)             (None, 224, 224, 3)  195         block1_conv1[0][0]               \n",
      "__________________________________________________________________________________________________\n",
      "up_sampling2d_5 (UpSampling2D)  (None, 224, 224, 3)  0           add_4[0][0]                      \n",
      "__________________________________________________________________________________________________\n",
      "leaky_re_lu_10 (LeakyReLU)      (None, 224, 224, 3)  0           conv_1_1x1[0][0]                 \n",
      "__________________________________________________________________________________________________\n",
      "leaky_re_lu_9 (LeakyReLU)       (None, 224, 224, 3)  0           up_sampling2d_5[0][0]            \n",
      "__________________________________________________________________________________________________\n",
      "final_merge (Add)               (None, 224, 224, 3)  0           leaky_re_lu_10[0][0]             \n",
      "                                                                 leaky_re_lu_9[0][0]              \n",
      "__________________________________________________________________________________________________\n",
      "soft_out (Lambda)               (None, 224, 224, 3)  0           final_merge[0][0]                \n",
      "==================================================================================================\n",
      "Total params: 14,719,338\n",
      "Trainable params: 14,719,326\n",
      "Non-trainable params: 12\n",
      "__________________________________________________________________________________________________\n"
     ]
    }
   ],
   "source": [
    "\n",
    "# Extract features from an arbitrary intermediate layer with VGG19\n",
    "\n",
    "from segmodel import SegModel\n",
    "\n",
    "# Extract pooling layers out of VGG-16\n",
    "num_classes = len(TrainingImage.COLOR.keys())\n",
    "\n",
    "segModel = SegModel(num_classes, class_weight=median_balancing_weights) \n",
    "model = segModel.getModel()\n"
   ]
  },
  {
   "cell_type": "code",
   "execution_count": 7,
   "metadata": {
    "collapsed": true
   },
   "outputs": [],
   "source": [
    "## Loss function definition"
   ]
  },
  {
   "cell_type": "code",
   "execution_count": 8,
   "metadata": {
    "collapsed": true
   },
   "outputs": [],
   "source": [
    "from keras import backend as K\n",
    "import tensorflow as tf\n",
    "\n",
    "# https://github.com/jocicmarko/ultrasound-nerve-segmentation/blob/9d0fb65d67334dc332816bcb30d317c2de8b9137/train.py#L23\n",
    "\n",
    "def dice_coef(y_true, y_pred):\n",
    "    smooth = 1.0e1\n",
    "    y_true_f = K.square(K.flatten(y_true))\n",
    "    y_pred_f = K.square(K.flatten(y_pred))\n",
    "    intersection = K.sum(y_true_f * y_pred_f)\n",
    "    return (2. * intersection + smooth) / (K.sum(y_true_f) + K.sum(y_pred_f) + smooth)\n",
    "\n",
    "def jaccard_coef(y_true, y_pred):\n",
    "    smooth = 1.0e1\n",
    "    y_true_f = K.flatten(y_true) > 1e-5\n",
    "    y_pred_f = K.flatten(y_pred) > 1e-5\n",
    "    intersection = K.cast(tf.logical_and(y_true_f, y_pred_f), 'float32')\n",
    "    union = K.cast(tf.logical_or(y_true_f, y_pred_f), 'float32')\n",
    "    i_mean = K.mean(intersection, axis=0)\n",
    "    u_mean = K.mean(union, axis=0)\n",
    "    return (i_mean + smooth) / (u_mean + smooth)\n",
    "\n",
    "\n",
    "def dice_coef_loss(y_true, y_pred):\n",
    "    return -1.0 * dice_coef(y_true, y_pred)\n",
    "\n",
    "def jaccard_coef_loss(y_true, y_pred):\n",
    "    return -1.0 * jaccard_coef(y_true, y_pred)"
   ]
  },
  {
   "cell_type": "code",
   "execution_count": 9,
   "metadata": {
    "scrolled": true
   },
   "outputs": [
    {
     "name": "stdout",
     "output_type": "stream",
     "text": [
      "Train on 512 samples, validate on 64 samples\n",
      "Epoch 1/3\n",
      "512/512 [==============================] - 19s 37ms/step - loss: 2.5484 - final_merge_loss: -1.2934 - soft_out_loss: 2.5613 - final_merge_categorical_accuracy: 0.6005 - soft_out_categorical_accuracy: 0.1002 - val_loss: 0.9447 - val_final_merge_loss: -1.2041 - val_soft_out_loss: 0.9568 - val_final_merge_categorical_accuracy: 0.9169 - val_soft_out_categorical_accuracy: 0.2670\n",
      "Epoch 2/3\n",
      "512/512 [==============================] - 13s 26ms/step - loss: 0.7128 - final_merge_loss: -1.0914 - soft_out_loss: 0.7237 - final_merge_categorical_accuracy: 0.9152 - soft_out_categorical_accuracy: 0.8703 - val_loss: 0.5343 - val_final_merge_loss: -1.0532 - val_soft_out_loss: 0.5449 - val_final_merge_categorical_accuracy: 0.9150 - val_soft_out_categorical_accuracy: 0.9873\n",
      "Epoch 3/3\n",
      "512/512 [==============================] - 13s 26ms/step - loss: 0.5043 - final_merge_loss: -1.0297 - soft_out_loss: 0.5146 - final_merge_categorical_accuracy: 0.9147 - soft_out_categorical_accuracy: 0.9874 - val_loss: 0.4570 - val_final_merge_loss: -1.0395 - val_soft_out_loss: 0.4674 - val_final_merge_categorical_accuracy: 0.9150 - val_soft_out_categorical_accuracy: 0.9881\n"
     ]
    }
   ],
   "source": [
    "from keras import optimizers\n",
    "optimizer_selected = optimizers.Adam(lr=1e-3)\n",
    "\n",
    "\n",
    "my_loss={'final_merge': dice_coef_loss, 'soft_out': 'categorical_crossentropy'}\n",
    "my_loss_weights={'final_merge': 0.01, 'soft_out': 1.0}\n",
    "model.compile(optimizer=optimizer_selected, loss=my_loss, loss_weights = my_loss_weights , \n",
    "              metrics={'final_merge':'categorical_accuracy', 'soft_out':'categorical_accuracy'})\n",
    "\n",
    "    \n",
    "    \n",
    "history = model.fit(x=X_train, y=[y_train, y_train], batch_size=20, epochs=3, \n",
    "                    validation_split=0.0, validation_data=(X_val, [y_val, y_val]), shuffle=True)"
   ]
  },
  {
   "cell_type": "code",
   "execution_count": 11,
   "metadata": {
    "scrolled": false
   },
   "outputs": [
    {
     "name": "stdout",
     "output_type": "stream",
     "text": [
      "Time for inference : 11.509418487548828ms\n"
     ]
    },
    {
     "data": {
      "image/png": "[encoded data removed]",
      "text/plain": [
       "<matplotlib.figure.Figure at 0x7f2757c561d0>"
      ]
     },
     "metadata": {},
     "output_type": "display_data"
    },
    {
     "data": {
      "image/png": "[encoded data removed]",
      "text/plain": [
       "<matplotlib.figure.Figure at 0x7f2757dd6048>"
      ]
     },
     "metadata": {},
     "output_type": "display_data"
    }
   ],
   "source": [
    "import time\n",
    "# #Plot loss function\n",
    "# plt.plot(history.epoch,history.history['loss'])\n",
    "# plt.legend(('loss'))\n",
    "# plt.grid('on')\n",
    "# plt.show()\n",
    "\n",
    "#img = X_train[10]\n",
    "\n",
    "# Create a brand-new image for testing\n",
    "trainim = TrainingImage(size=image_size , backgd_color_class=TrainingImage.BLACK_CLASS)\n",
    "trainim.createRectangle( (50,150) , (150,200), color_class=TrainingImage.RED_CLASS)\n",
    "trainim.addRandRectangle(TrainingImage.WHITE_CLASS)\n",
    "trainim.addRandRectangle(TrainingImage.WHITE_CLASS)\n",
    "trainim.addRandRectangle(TrainingImage.RED_CLASS)\n",
    "img = trainim.image\n",
    "\n",
    "\n",
    "start = time.time()\n",
    "[y_out,y_softmax] = model.predict(img.reshape(1,224,224,3))\n",
    "end = time.time()\n",
    "print('Time for inference : {}ms'.format((end - start)*1000))\n",
    "\n",
    "\n",
    "seg = y_softmax\n",
    "seg = seg.reshape(224,224, num_classes)\n",
    "\n",
    "seg_classes=seg.argmax(axis=2)\n",
    "\n",
    "plt.imshow(img)\n",
    "plt.show()\n",
    "\n",
    "fig = plt.figure(1)\n",
    "fig.clf()\n",
    "ax = fig.add_subplot(2,2,1)\n",
    "imsh = ax.imshow( seg[:,:,0], cmap='magma')\n",
    "fig.colorbar(imsh)\n",
    "\n",
    "ax = fig.add_subplot(2,2,2)\n",
    "imsh = ax.imshow( seg[:,:,1], cmap='magma')\n",
    "fig.colorbar(imsh)\n",
    "\n",
    "ax = fig.add_subplot(2,2,3)\n",
    "imsh = ax.imshow( seg[:,:,2], cmap='magma')\n",
    "fig.colorbar(imsh)\n",
    "\n",
    "ax = fig.add_subplot(2,2,4)\n",
    "imsh = ax.imshow( seg_classes, cmap='magma' )\n",
    "fig.colorbar(imsh)\n",
    "plt.show()\n",
    "\n"
   ]
  },
  {
   "cell_type": "code",
   "execution_count": null,
   "metadata": {},
   "outputs": [],
   "source": [
    "\n"
   ]
  },
  {
   "cell_type": "code",
   "execution_count": 17,
   "metadata": {},
   "outputs": [
    {
     "name": "stdout",
     "output_type": "stream",
     "text": [
      "Total size of the use of memory : 294.0MB\n"
     ]
    }
   ],
   "source": [
    "# Generate shape training dataset\n",
    "from functools import reduce\n",
    "\n",
    "\n",
    "NUM_TRAIN = 1024\n",
    "num_classes = 3\n",
    "image_size = (224,224, 3)\n",
    "label_size = (224,224, num_classes)\n",
    "size_in_memory = 1\n",
    "image_mem = reduce(lambda a,b : a*b ,image_size, 1)\n",
    "label_mem = reduce(lambda a,b : a*b ,label_size, 1)\n",
    "total_train_mem = NUM_TRAIN * (image_mem + label_mem)\n",
    "print('Total size of the use of memory : {}MB'.format(total_train_mem/(1024*1024)))\n",
    "\n",
    "\n",
    "\n",
    "def generateShapeData(X, y, num_samples):\n",
    "    trainim = TrainingImage(size=image_size)\n",
    "    for i in range(num_samples):\n",
    "        trainim.createImageBackground(TrainingImage.BLACK_CLASS)\n",
    "        for j in range(10):\n",
    "            trainim.addRandRectangle(color_class=TrainingImage.RED_CLASS)\n",
    "            trainim.addRandCircle(color_class=TrainingImage.RED_CLASS)\n",
    "        \n",
    "        X[i] = trainim.image\n",
    "        y[i] = trainim.label_shape\n",
    "    return X, y\n",
    "\n",
    "X_TRAIN_SIZE = (NUM_TRAIN,) + image_size\n",
    "Y_TRAIN_SIZE = (NUM_TRAIN,) + image_size[0:2] + (num_classes, )\n",
    "X_train = np.zeros(X_TRAIN_SIZE, dtype=np.uint8)\n",
    "y_train = np.zeros(Y_TRAIN_SIZE, dtype=np.uint8)\n",
    "X_train, y_train = generateShapeData(X_train, y_train, NUM_TRAIN)\n",
    "\n",
    "NUM_VAL = 64\n",
    "X_VAL_SIZE = (NUM_VAL,) + image_size\n",
    "Y_VAL_SIZE = (NUM_VAL,) + image_size[0:2] + (num_classes, )\n",
    "X_val = np.zeros(X_VAL_SIZE, dtype=np.uint8)\n",
    "y_val = np.zeros(Y_VAL_SIZE, dtype=np.uint8)\n",
    "X_val, y_val = generateShapeData(X_val, y_val, NUM_VAL)"
   ]
  },
  {
   "cell_type": "code",
   "execution_count": 18,
   "metadata": {},
   "outputs": [
    {
     "data": {
      "image/png": "[encoded data removed]",
      "text/plain": [
       "<matplotlib.figure.Figure at 0x7f2757a9ccc0>"
      ]
     },
     "metadata": {},
     "output_type": "display_data"
    },
    {
     "data": {
      "image/png": "[encoded data removed]",
      "text/plain": [
       "<matplotlib.figure.Figure at 0x7f26f3020860>"
      ]
     },
     "metadata": {},
     "output_type": "display_data"
    },
    {
     "data": {
      "image/png": "[encoded data removed]",
      "text/plain": [
       "<matplotlib.figure.Figure at 0x7f26f2fc1668>"
      ]
     },
     "metadata": {},
     "output_type": "display_data"
    },
    {
     "data": {
      "image/png": "[encoded data removed]",
      "text/plain": [
       "<matplotlib.figure.Figure at 0x7f2757aff438>"
      ]
     },
     "metadata": {},
     "output_type": "display_data"
    }
   ],
   "source": [
    "# Plot color evaluation dataset\n",
    "\n",
    "for idx in range(3,7):\n",
    "\n",
    "    fig = plt.figure(1)\n",
    "    ax = fig.add_subplot(1,2,1)\n",
    "    imsh = ax.imshow( X_train[idx], cmap='magma')\n",
    "\n",
    "    ax = fig.add_subplot(1,2,2)\n",
    "    imsh = ax.imshow( y_train[idx,:,:,:].argmax(axis=2), cmap='magma')\n",
    "    plt.colorbar(imsh)\n",
    "    plt.show()"
   ]
  },
  {
   "cell_type": "code",
   "execution_count": 19,
   "metadata": {
    "scrolled": false
   },
   "outputs": [
    {
     "name": "stdout",
     "output_type": "stream",
     "text": [
      "Pre-trained model loaded.\n",
      "weights.shape (224, 224, 3)\n",
      "sigmoided_matrix_in.shape (?, 224, 224, 3)\n",
      "sigmoided_matrix.shape (?, 224, 224, 3)\n",
      "sum_sig.shape (?, 224, 224)\n",
      "weights.shape (224, 224, 3)\n",
      "sigmoided_matrix_in.shape (?, 224, 224, 3)\n",
      "sigmoided_matrix.shape (?, 224, 224, 3)\n",
      "sum_sig.shape (?, 224, 224)\n",
      "__________________________________________________________________________________________________\n",
      "Layer (type)                    Output Shape         Param #     Connected to                     \n",
      "==================================================================================================\n",
      "input_2 (InputLayer)            (None, 224, 224, 3)  0                                            \n",
      "__________________________________________________________________________________________________\n",
      "block1_conv1 (Conv2D)           (None, 224, 224, 64) 1792        input_2[0][0]                    \n",
      "__________________________________________________________________________________________________\n",
      "block1_conv2 (Conv2D)           (None, 224, 224, 64) 36928       block1_conv1[0][0]               \n",
      "__________________________________________________________________________________________________\n",
      "block1_pool (MaxPooling2D)      (None, 112, 112, 64) 0           block1_conv2[0][0]               \n",
      "__________________________________________________________________________________________________\n",
      "block2_conv1 (Conv2D)           (None, 112, 112, 128 73856       block1_pool[0][0]                \n",
      "__________________________________________________________________________________________________\n",
      "block2_conv2 (Conv2D)           (None, 112, 112, 128 147584      block2_conv1[0][0]               \n",
      "__________________________________________________________________________________________________\n",
      "block2_pool (MaxPooling2D)      (None, 56, 56, 128)  0           block2_conv2[0][0]               \n",
      "__________________________________________________________________________________________________\n",
      "block3_conv1 (Conv2D)           (None, 56, 56, 256)  295168      block2_pool[0][0]                \n",
      "__________________________________________________________________________________________________\n",
      "block3_conv2 (Conv2D)           (None, 56, 56, 256)  590080      block3_conv1[0][0]               \n",
      "__________________________________________________________________________________________________\n",
      "block3_conv3 (Conv2D)           (None, 56, 56, 256)  590080      block3_conv2[0][0]               \n",
      "__________________________________________________________________________________________________\n",
      "block3_pool (MaxPooling2D)      (None, 28, 28, 256)  0           block3_conv3[0][0]               \n",
      "__________________________________________________________________________________________________\n",
      "block4_conv1 (Conv2D)           (None, 28, 28, 512)  1180160     block3_pool[0][0]                \n",
      "__________________________________________________________________________________________________\n",
      "block4_conv2 (Conv2D)           (None, 28, 28, 512)  2359808     block4_conv1[0][0]               \n",
      "__________________________________________________________________________________________________\n",
      "block4_conv3 (Conv2D)           (None, 28, 28, 512)  2359808     block4_conv2[0][0]               \n",
      "__________________________________________________________________________________________________\n",
      "block4_pool (MaxPooling2D)      (None, 14, 14, 512)  0           block4_conv3[0][0]               \n",
      "__________________________________________________________________________________________________\n",
      "block5_conv1 (Conv2D)           (None, 14, 14, 512)  2359808     block4_pool[0][0]                \n",
      "__________________________________________________________________________________________________\n",
      "block5_conv2 (Conv2D)           (None, 14, 14, 512)  2359808     block5_conv1[0][0]               \n",
      "__________________________________________________________________________________________________\n",
      "block5_conv3 (Conv2D)           (None, 14, 14, 512)  2359808     block5_conv2[0][0]               \n",
      "__________________________________________________________________________________________________\n",
      "block5_pool (MaxPooling2D)      (None, 7, 7, 512)    0           block5_conv3[0][0]               \n",
      "__________________________________________________________________________________________________\n",
      "block5_pool_1x1 (Conv2D)        (None, 7, 7, 3)      1539        block5_pool[0][0]                \n",
      "__________________________________________________________________________________________________\n",
      "leaky_re_lu_11 (LeakyReLU)      (None, 7, 7, 3)      0           block5_pool_1x1[0][0]            \n",
      "__________________________________________________________________________________________________\n",
      "block4_pool_1x1 (Conv2D)        (None, 14, 14, 3)    1539        block4_pool[0][0]                \n",
      "__________________________________________________________________________________________________\n",
      "up_sampling2d_6 (UpSampling2D)  (None, 14, 14, 3)    0           leaky_re_lu_11[0][0]             \n",
      "__________________________________________________________________________________________________\n",
      "leaky_re_lu_12 (LeakyReLU)      (None, 14, 14, 3)    0           block4_pool_1x1[0][0]            \n",
      "__________________________________________________________________________________________________\n",
      "add_5 (Add)                     (None, 14, 14, 3)    0           up_sampling2d_6[0][0]            \n",
      "                                                                 leaky_re_lu_12[0][0]             \n",
      "__________________________________________________________________________________________________\n",
      "up_sampling2d_7 (UpSampling2D)  (None, 28, 28, 3)    0           add_5[0][0]                      \n",
      "__________________________________________________________________________________________________\n",
      "leaky_re_lu_13 (LeakyReLU)      (None, 28, 28, 3)    0           up_sampling2d_7[0][0]            \n",
      "__________________________________________________________________________________________________\n",
      "block3_pool_1x1 (Conv2D)        (None, 28, 28, 3)    771         block3_pool[0][0]                \n",
      "__________________________________________________________________________________________________\n",
      "up_layer_4_and_5_bn (BatchNorma (None, 28, 28, 3)    12          leaky_re_lu_13[0][0]             \n",
      "__________________________________________________________________________________________________\n",
      "leaky_re_lu_14 (LeakyReLU)      (None, 28, 28, 3)    0           block3_pool_1x1[0][0]            \n",
      "__________________________________________________________________________________________________\n",
      "add_6 (Add)                     (None, 28, 28, 3)    0           up_layer_4_and_5_bn[0][0]        \n",
      "                                                                 leaky_re_lu_14[0][0]             \n",
      "__________________________________________________________________________________________________\n",
      "up_sampling2d_8 (UpSampling2D)  (None, 56, 56, 3)    0           add_6[0][0]                      \n",
      "__________________________________________________________________________________________________\n",
      "block2_pool_1x1 (Conv2D)        (None, 56, 56, 3)    387         block2_pool[0][0]                \n",
      "__________________________________________________________________________________________________\n",
      "leaky_re_lu_15 (LeakyReLU)      (None, 56, 56, 3)    0           up_sampling2d_8[0][0]            \n",
      "__________________________________________________________________________________________________\n",
      "leaky_re_lu_16 (LeakyReLU)      (None, 56, 56, 3)    0           block2_pool_1x1[0][0]            \n",
      "__________________________________________________________________________________________________\n",
      "add_7 (Add)                     (None, 56, 56, 3)    0           leaky_re_lu_15[0][0]             \n",
      "                                                                 leaky_re_lu_16[0][0]             \n",
      "__________________________________________________________________________________________________\n",
      "up_sampling2d_9 (UpSampling2D)  (None, 112, 112, 3)  0           add_7[0][0]                      \n",
      "__________________________________________________________________________________________________\n",
      "leaky_re_lu_17 (LeakyReLU)      (None, 112, 112, 3)  0           up_sampling2d_9[0][0]            \n",
      "__________________________________________________________________________________________________\n",
      "block1_pool_1x1 (Conv2D)        (None, 112, 112, 3)  195         block1_pool[0][0]                \n",
      "__________________________________________________________________________________________________\n",
      "up_layer_2_to_5_bn (BatchNormal (None, 112, 112, 3)  12          leaky_re_lu_17[0][0]             \n",
      "__________________________________________________________________________________________________\n",
      "leaky_re_lu_18 (LeakyReLU)      (None, 112, 112, 3)  0           block1_pool_1x1[0][0]            \n",
      "__________________________________________________________________________________________________\n",
      "add_8 (Add)                     (None, 112, 112, 3)  0           up_layer_2_to_5_bn[0][0]         \n",
      "                                                                 leaky_re_lu_18[0][0]             \n",
      "__________________________________________________________________________________________________\n",
      "conv_1_1x1 (Conv2D)             (None, 224, 224, 3)  195         block1_conv1[0][0]               \n",
      "__________________________________________________________________________________________________\n",
      "up_sampling2d_10 (UpSampling2D) (None, 224, 224, 3)  0           add_8[0][0]                      \n",
      "__________________________________________________________________________________________________\n",
      "leaky_re_lu_20 (LeakyReLU)      (None, 224, 224, 3)  0           conv_1_1x1[0][0]                 \n",
      "__________________________________________________________________________________________________\n",
      "leaky_re_lu_19 (LeakyReLU)      (None, 224, 224, 3)  0           up_sampling2d_10[0][0]           \n",
      "__________________________________________________________________________________________________\n",
      "final_merge (Add)               (None, 224, 224, 3)  0           leaky_re_lu_20[0][0]             \n",
      "                                                                 leaky_re_lu_19[0][0]             \n",
      "__________________________________________________________________________________________________\n",
      "soft_out (Lambda)               (None, 224, 224, 3)  0           final_merge[0][0]                \n",
      "==================================================================================================\n",
      "Total params: 14,719,338\n",
      "Trainable params: 14,719,326\n",
      "Non-trainable params: 12\n",
      "__________________________________________________________________________________________________\n"
     ]
    }
   ],
   "source": [
    "from segmodel import SegModel\n",
    "\n",
    "# Extract pooling layers out of VGG-16\n",
    "num_classes = 3\n",
    "\n",
    "segModel = SegModel(num_classes, class_weight=median_balancing_weights) \n",
    "model = segModel.getModel()"
   ]
  },
  {
   "cell_type": "code",
   "execution_count": 20,
   "metadata": {
    "collapsed": true
   },
   "outputs": [],
   "source": [
    "from keras import backend as K\n",
    "import tensorflow as tf\n",
    "\n",
    "def jaccard_coef(y_true, y_pred):\n",
    "    smooth = 1.0e1\n",
    "    y_true_f = K.batch_flatten(y_true) > 1e-3\n",
    "    y_pred_f = K.batch_flatten(y_pred) > 1e-3\n",
    "    union        = K.cast(tf.logical_and(y_true_f, y_pred_f),'float32')\n",
    "    intersection = K.cast(tf.logical_or(y_true_f, y_pred_f),'float32')\n",
    "    i = K.mean(intersection)\n",
    "    u = K.mean(union)\n",
    "    IoU = (i + smooth) / (u + smooth)\n",
    "    return IoU \n",
    "\n",
    "\n",
    "def jaccard_coef_loss(y_true, y_pred):\n",
    "    return -jaccard_coef(y_true, y_pred)"
   ]
  },
  {
   "cell_type": "code",
   "execution_count": 21,
   "metadata": {},
   "outputs": [
    {
     "name": "stdout",
     "output_type": "stream",
     "text": [
      "Train on 1024 samples, validate on 64 samples\n",
      "Epoch 1/3\n",
      "1024/1024 [==============================] - 29s 28ms/step - loss: 0.0993 - final_merge_loss: -0.3491 - soft_out_loss: 0.1028 - final_merge_categorical_accuracy: 0.1750 - soft_out_categorical_accuracy: 0.0348 - val_loss: 0.0724 - val_final_merge_loss: -0.4234 - val_soft_out_loss: 0.0767 - val_final_merge_categorical_accuracy: 0.4064 - val_soft_out_categorical_accuracy: 0.0353\n",
      "Epoch 2/3\n",
      " 220/1024 [=====>........................] - ETA: 20s - loss: 0.0715 - final_merge_loss: -0.4691 - soft_out_loss: 0.0762 - final_merge_categorical_accuracy: 0.0885 - soft_out_categorical_accuracy: 0.0352"
     ]
    },
    {
     "ename": "KeyboardInterrupt",
     "evalue": "",
     "output_type": "error",
     "traceback": [
      "\u001b[0;31m---------------------------------------------------------------------------\u001b[0m",
      "\u001b[0;31mKeyboardInterrupt\u001b[0m                         Traceback (most recent call last)",
      "\u001b[0;32m<ipython-input-21-e59b915e382b>\u001b[0m in \u001b[0;36m<module>\u001b[0;34m()\u001b[0m\n\u001b[1;32m     11\u001b[0m \u001b[0;34m\u001b[0m\u001b[0m\n\u001b[1;32m     12\u001b[0m history = model.fit(x=X_train, y=[y_train, y_train], batch_size=20, epochs=3, \n\u001b[0;32m---> 13\u001b[0;31m                     validation_split=0.0, validation_data=(X_val, [y_val, y_val]), shuffle=True)\n\u001b[0m\u001b[1;32m     14\u001b[0m \u001b[0;32mimport\u001b[0m \u001b[0mtime\u001b[0m\u001b[0;34m\u001b[0m\u001b[0m\n\u001b[1;32m     15\u001b[0m \u001b[0;31m#Plot loss function\u001b[0m\u001b[0;34m\u001b[0m\u001b[0;34m\u001b[0m\u001b[0m\n",
      "\u001b[0;32m~/anaconda3/lib/python3.5/site-packages/keras/engine/training.py\u001b[0m in \u001b[0;36mfit\u001b[0;34m(self, x, y, batch_size, epochs, verbose, callbacks, validation_split, validation_data, shuffle, class_weight, sample_weight, initial_epoch, steps_per_epoch, validation_steps, **kwargs)\u001b[0m\n\u001b[1;32m   1655\u001b[0m                               \u001b[0minitial_epoch\u001b[0m\u001b[0;34m=\u001b[0m\u001b[0minitial_epoch\u001b[0m\u001b[0;34m,\u001b[0m\u001b[0;34m\u001b[0m\u001b[0m\n\u001b[1;32m   1656\u001b[0m                               \u001b[0msteps_per_epoch\u001b[0m\u001b[0;34m=\u001b[0m\u001b[0msteps_per_epoch\u001b[0m\u001b[0;34m,\u001b[0m\u001b[0;34m\u001b[0m\u001b[0m\n\u001b[0;32m-> 1657\u001b[0;31m                               validation_steps=validation_steps)\n\u001b[0m\u001b[1;32m   1658\u001b[0m \u001b[0;34m\u001b[0m\u001b[0m\n\u001b[1;32m   1659\u001b[0m     def evaluate(self, x=None, y=None,\n",
      "\u001b[0;32m~/anaconda3/lib/python3.5/site-packages/keras/engine/training.py\u001b[0m in \u001b[0;36m_fit_loop\u001b[0;34m(self, f, ins, out_labels, batch_size, epochs, verbose, callbacks, val_f, val_ins, shuffle, callback_metrics, initial_epoch, steps_per_epoch, validation_steps)\u001b[0m\n\u001b[1;32m   1211\u001b[0m                     \u001b[0mbatch_logs\u001b[0m\u001b[0;34m[\u001b[0m\u001b[0;34m'size'\u001b[0m\u001b[0;34m]\u001b[0m \u001b[0;34m=\u001b[0m \u001b[0mlen\u001b[0m\u001b[0;34m(\u001b[0m\u001b[0mbatch_ids\u001b[0m\u001b[0;34m)\u001b[0m\u001b[0;34m\u001b[0m\u001b[0m\n\u001b[1;32m   1212\u001b[0m                     \u001b[0mcallbacks\u001b[0m\u001b[0;34m.\u001b[0m\u001b[0mon_batch_begin\u001b[0m\u001b[0;34m(\u001b[0m\u001b[0mbatch_index\u001b[0m\u001b[0;34m,\u001b[0m \u001b[0mbatch_logs\u001b[0m\u001b[0;34m)\u001b[0m\u001b[0;34m\u001b[0m\u001b[0m\n\u001b[0;32m-> 1213\u001b[0;31m                     \u001b[0mouts\u001b[0m \u001b[0;34m=\u001b[0m \u001b[0mf\u001b[0m\u001b[0;34m(\u001b[0m\u001b[0mins_batch\u001b[0m\u001b[0;34m)\u001b[0m\u001b[0;34m\u001b[0m\u001b[0m\n\u001b[0m\u001b[1;32m   1214\u001b[0m                     \u001b[0;32mif\u001b[0m \u001b[0;32mnot\u001b[0m \u001b[0misinstance\u001b[0m\u001b[0;34m(\u001b[0m\u001b[0mouts\u001b[0m\u001b[0;34m,\u001b[0m \u001b[0mlist\u001b[0m\u001b[0;34m)\u001b[0m\u001b[0;34m:\u001b[0m\u001b[0;34m\u001b[0m\u001b[0m\n\u001b[1;32m   1215\u001b[0m                         \u001b[0mouts\u001b[0m \u001b[0;34m=\u001b[0m \u001b[0;34m[\u001b[0m\u001b[0mouts\u001b[0m\u001b[0;34m]\u001b[0m\u001b[0;34m\u001b[0m\u001b[0m\n",
      "\u001b[0;32m~/anaconda3/lib/python3.5/site-packages/keras/backend/tensorflow_backend.py\u001b[0m in \u001b[0;36m__call__\u001b[0;34m(self, inputs)\u001b[0m\n\u001b[1;32m   2355\u001b[0m         \u001b[0msession\u001b[0m \u001b[0;34m=\u001b[0m \u001b[0mget_session\u001b[0m\u001b[0;34m(\u001b[0m\u001b[0;34m)\u001b[0m\u001b[0;34m\u001b[0m\u001b[0m\n\u001b[1;32m   2356\u001b[0m         updated = session.run(fetches=fetches, feed_dict=feed_dict,\n\u001b[0;32m-> 2357\u001b[0;31m                               **self.session_kwargs)\n\u001b[0m\u001b[1;32m   2358\u001b[0m         \u001b[0;32mreturn\u001b[0m \u001b[0mupdated\u001b[0m\u001b[0;34m[\u001b[0m\u001b[0;34m:\u001b[0m\u001b[0mlen\u001b[0m\u001b[0;34m(\u001b[0m\u001b[0mself\u001b[0m\u001b[0;34m.\u001b[0m\u001b[0moutputs\u001b[0m\u001b[0;34m)\u001b[0m\u001b[0;34m]\u001b[0m\u001b[0;34m\u001b[0m\u001b[0m\n\u001b[1;32m   2359\u001b[0m \u001b[0;34m\u001b[0m\u001b[0m\n",
      "\u001b[0;32m~/anaconda3/lib/python3.5/site-packages/tensorflow/python/client/session.py\u001b[0m in \u001b[0;36mrun\u001b[0;34m(self, fetches, feed_dict, options, run_metadata)\u001b[0m\n\u001b[1;32m    887\u001b[0m     \u001b[0;32mtry\u001b[0m\u001b[0;34m:\u001b[0m\u001b[0;34m\u001b[0m\u001b[0m\n\u001b[1;32m    888\u001b[0m       result = self._run(None, fetches, feed_dict, options_ptr,\n\u001b[0;32m--> 889\u001b[0;31m                          run_metadata_ptr)\n\u001b[0m\u001b[1;32m    890\u001b[0m       \u001b[0;32mif\u001b[0m \u001b[0mrun_metadata\u001b[0m\u001b[0;34m:\u001b[0m\u001b[0;34m\u001b[0m\u001b[0m\n\u001b[1;32m    891\u001b[0m         \u001b[0mproto_data\u001b[0m \u001b[0;34m=\u001b[0m \u001b[0mtf_session\u001b[0m\u001b[0;34m.\u001b[0m\u001b[0mTF_GetBuffer\u001b[0m\u001b[0;34m(\u001b[0m\u001b[0mrun_metadata_ptr\u001b[0m\u001b[0;34m)\u001b[0m\u001b[0;34m\u001b[0m\u001b[0m\n",
      "\u001b[0;32m~/anaconda3/lib/python3.5/site-packages/tensorflow/python/client/session.py\u001b[0m in \u001b[0;36m_run\u001b[0;34m(self, handle, fetches, feed_dict, options, run_metadata)\u001b[0m\n\u001b[1;32m   1118\u001b[0m     \u001b[0;32mif\u001b[0m \u001b[0mfinal_fetches\u001b[0m \u001b[0;32mor\u001b[0m \u001b[0mfinal_targets\u001b[0m \u001b[0;32mor\u001b[0m \u001b[0;34m(\u001b[0m\u001b[0mhandle\u001b[0m \u001b[0;32mand\u001b[0m \u001b[0mfeed_dict_tensor\u001b[0m\u001b[0;34m)\u001b[0m\u001b[0;34m:\u001b[0m\u001b[0;34m\u001b[0m\u001b[0m\n\u001b[1;32m   1119\u001b[0m       results = self._do_run(handle, final_targets, final_fetches,\n\u001b[0;32m-> 1120\u001b[0;31m                              feed_dict_tensor, options, run_metadata)\n\u001b[0m\u001b[1;32m   1121\u001b[0m     \u001b[0;32melse\u001b[0m\u001b[0;34m:\u001b[0m\u001b[0;34m\u001b[0m\u001b[0m\n\u001b[1;32m   1122\u001b[0m       \u001b[0mresults\u001b[0m \u001b[0;34m=\u001b[0m \u001b[0;34m[\u001b[0m\u001b[0;34m]\u001b[0m\u001b[0;34m\u001b[0m\u001b[0m\n",
      "\u001b[0;32m~/anaconda3/lib/python3.5/site-packages/tensorflow/python/client/session.py\u001b[0m in \u001b[0;36m_do_run\u001b[0;34m(self, handle, target_list, fetch_list, feed_dict, options, run_metadata)\u001b[0m\n\u001b[1;32m   1315\u001b[0m     \u001b[0;32mif\u001b[0m \u001b[0mhandle\u001b[0m \u001b[0;32mis\u001b[0m \u001b[0;32mNone\u001b[0m\u001b[0;34m:\u001b[0m\u001b[0;34m\u001b[0m\u001b[0m\n\u001b[1;32m   1316\u001b[0m       return self._do_call(_run_fn, self._session, feeds, fetches, targets,\n\u001b[0;32m-> 1317\u001b[0;31m                            options, run_metadata)\n\u001b[0m\u001b[1;32m   1318\u001b[0m     \u001b[0;32melse\u001b[0m\u001b[0;34m:\u001b[0m\u001b[0;34m\u001b[0m\u001b[0m\n\u001b[1;32m   1319\u001b[0m       \u001b[0;32mreturn\u001b[0m \u001b[0mself\u001b[0m\u001b[0;34m.\u001b[0m\u001b[0m_do_call\u001b[0m\u001b[0;34m(\u001b[0m\u001b[0m_prun_fn\u001b[0m\u001b[0;34m,\u001b[0m \u001b[0mself\u001b[0m\u001b[0;34m.\u001b[0m\u001b[0m_session\u001b[0m\u001b[0;34m,\u001b[0m \u001b[0mhandle\u001b[0m\u001b[0;34m,\u001b[0m \u001b[0mfeeds\u001b[0m\u001b[0;34m,\u001b[0m \u001b[0mfetches\u001b[0m\u001b[0;34m)\u001b[0m\u001b[0;34m\u001b[0m\u001b[0m\n",
      "\u001b[0;32m~/anaconda3/lib/python3.5/site-packages/tensorflow/python/client/session.py\u001b[0m in \u001b[0;36m_do_call\u001b[0;34m(self, fn, *args)\u001b[0m\n\u001b[1;32m   1321\u001b[0m   \u001b[0;32mdef\u001b[0m \u001b[0m_do_call\u001b[0m\u001b[0;34m(\u001b[0m\u001b[0mself\u001b[0m\u001b[0;34m,\u001b[0m \u001b[0mfn\u001b[0m\u001b[0;34m,\u001b[0m \u001b[0;34m*\u001b[0m\u001b[0margs\u001b[0m\u001b[0;34m)\u001b[0m\u001b[0;34m:\u001b[0m\u001b[0;34m\u001b[0m\u001b[0m\n\u001b[1;32m   1322\u001b[0m     \u001b[0;32mtry\u001b[0m\u001b[0;34m:\u001b[0m\u001b[0;34m\u001b[0m\u001b[0m\n\u001b[0;32m-> 1323\u001b[0;31m       \u001b[0;32mreturn\u001b[0m \u001b[0mfn\u001b[0m\u001b[0;34m(\u001b[0m\u001b[0;34m*\u001b[0m\u001b[0margs\u001b[0m\u001b[0;34m)\u001b[0m\u001b[0;34m\u001b[0m\u001b[0m\n\u001b[0m\u001b[1;32m   1324\u001b[0m     \u001b[0;32mexcept\u001b[0m \u001b[0merrors\u001b[0m\u001b[0;34m.\u001b[0m\u001b[0mOpError\u001b[0m \u001b[0;32mas\u001b[0m \u001b[0me\u001b[0m\u001b[0;34m:\u001b[0m\u001b[0;34m\u001b[0m\u001b[0m\n\u001b[1;32m   1325\u001b[0m       \u001b[0mmessage\u001b[0m \u001b[0;34m=\u001b[0m \u001b[0mcompat\u001b[0m\u001b[0;34m.\u001b[0m\u001b[0mas_text\u001b[0m\u001b[0;34m(\u001b[0m\u001b[0me\u001b[0m\u001b[0;34m.\u001b[0m\u001b[0mmessage\u001b[0m\u001b[0;34m)\u001b[0m\u001b[0;34m\u001b[0m\u001b[0m\n",
      "\u001b[0;32m~/anaconda3/lib/python3.5/site-packages/tensorflow/python/client/session.py\u001b[0m in \u001b[0;36m_run_fn\u001b[0;34m(session, feed_dict, fetch_list, target_list, options, run_metadata)\u001b[0m\n\u001b[1;32m   1300\u001b[0m           return tf_session.TF_Run(session, options,\n\u001b[1;32m   1301\u001b[0m                                    \u001b[0mfeed_dict\u001b[0m\u001b[0;34m,\u001b[0m \u001b[0mfetch_list\u001b[0m\u001b[0;34m,\u001b[0m \u001b[0mtarget_list\u001b[0m\u001b[0;34m,\u001b[0m\u001b[0;34m\u001b[0m\u001b[0m\n\u001b[0;32m-> 1302\u001b[0;31m                                    status, run_metadata)\n\u001b[0m\u001b[1;32m   1303\u001b[0m \u001b[0;34m\u001b[0m\u001b[0m\n\u001b[1;32m   1304\u001b[0m     \u001b[0;32mdef\u001b[0m \u001b[0m_prun_fn\u001b[0m\u001b[0;34m(\u001b[0m\u001b[0msession\u001b[0m\u001b[0;34m,\u001b[0m \u001b[0mhandle\u001b[0m\u001b[0;34m,\u001b[0m \u001b[0mfeed_dict\u001b[0m\u001b[0;34m,\u001b[0m \u001b[0mfetch_list\u001b[0m\u001b[0;34m)\u001b[0m\u001b[0;34m:\u001b[0m\u001b[0;34m\u001b[0m\u001b[0m\n",
      "\u001b[0;31mKeyboardInterrupt\u001b[0m: "
     ]
    }
   ],
   "source": [
    "from keras import optimizers\n",
    "optimizer_selected = optimizers.Adam(lr=1e-3)\n",
    "\n",
    "\n",
    "my_loss={'final_merge': dice_coef_loss, 'soft_out': 'categorical_crossentropy'}\n",
    "my_loss_weights={'final_merge': 0.01, 'soft_out': 1.0}\n",
    "model.compile(optimizer=optimizer_selected, loss=my_loss, loss_weights = my_loss_weights , \n",
    "              metrics={'final_merge':'categorical_accuracy', 'soft_out':'categorical_accuracy'})\n",
    "\n",
    "    \n",
    "    \n",
    "history = model.fit(x=X_train, y=[y_train, y_train], batch_size=20, epochs=3, \n",
    "                    validation_split=0.0, validation_data=(X_val, [y_val, y_val]), shuffle=True)\n",
    "import time\n",
    "#Plot loss function\n",
    "plt.plot(history.epoch,history.history['loss'])\n",
    "plt.legend(('loss'))\n",
    "plt.grid('on')\n",
    "plt.show()"
   ]
  },
  {
   "cell_type": "code",
   "execution_count": 259,
   "metadata": {},
   "outputs": [
    {
     "name": "stdout",
     "output_type": "stream",
     "text": [
      "Time for inference : 14.05644416809082ms\n"
     ]
    },
    {
     "data": {
      "image/png": "[encoded data removed]",
      "text/plain": [
       "<matplotlib.figure.Figure at 0x7f274f632c50>"
      ]
     },
     "metadata": {},
     "output_type": "display_data"
    },
    {
     "data": {
      "image/png": "[encoded data removed]",
      "text/plain": [
       "<matplotlib.figure.Figure at 0x7f27515b7be0>"
      ]
     },
     "metadata": {},
     "output_type": "display_data"
    }
   ],
   "source": [
    "# Create a brand-new image for testing\n",
    "trainim = TrainingImage(size=image_size , backgd_color_class=TrainingImage.BLACK_CLASS)\n",
    "trainim.addRandRectangle(TrainingImage.RED_CLASS)\n",
    "trainim.addRandCircle(TrainingImage.RED_CLASS)\n",
    "trainim.addRandRectangle(TrainingImage.RED_CLASS)\n",
    "trainim.addRandCircle(TrainingImage.RED_CLASS)\n",
    "trainim.addRandRectangle(TrainingImage.RED_CLASS)\n",
    "trainim.addRandCircle(TrainingImage.RED_CLASS)\n",
    "\n",
    "img = trainim.image\n",
    "\n",
    "\n",
    "start = time.time()\n",
    "[y_out, y_softmax] = model.predict(img.reshape(1,224,224,3))\n",
    "end = time.time()\n",
    "print('Time for inference : {}ms'.format((end - start)*1000))\n",
    "\n",
    "seg = y_softmax\n",
    "seg = seg.reshape(224,224, num_classes)\n",
    "\n",
    "seg_classes=seg.argmax(axis=2)\n",
    "\n",
    "plt.imshow(img)\n",
    "plt.show()\n",
    "\n",
    "fig = plt.figure(1)\n",
    "fig.clf()\n",
    "ax = fig.add_subplot(2,2,1)\n",
    "imsh = ax.imshow( seg[:,:,0], cmap='magma')\n",
    "fig.colorbar(imsh)\n",
    "\n",
    "ax = fig.add_subplot(2,2,2)\n",
    "imsh = ax.imshow( seg[:,:,1], cmap='magma')\n",
    "fig.colorbar(imsh)\n",
    "\n",
    "ax = fig.add_subplot(2,2,3)\n",
    "imsh = ax.imshow( seg[:,:,2], cmap='magma')\n",
    "fig.colorbar(imsh)\n",
    "\n",
    "ax = fig.add_subplot(2,2,4)\n",
    "imsh = ax.imshow( seg_classes, cmap='magma' )\n",
    "fig.colorbar(imsh)\n",
    "plt.show()\n",
    "\n"
   ]
  },
  {
   "cell_type": "code",
   "execution_count": 264,
   "metadata": {},
   "outputs": [
    {
     "name": "stdout",
     "output_type": "stream",
     "text": [
      "img.shape (224, 224, 3)\n",
      "img_r.shape (7, 7, 3, 1024)\n",
      "tr1.shape (7, 7, 3, 1024)\n"
     ]
    },
    {
     "data": {
      "image/png": "[encoded data removed]",
      "text/plain": [
       "<matplotlib.figure.Figure at 0x7f2757f27ba8>"
      ]
     },
     "metadata": {},
     "output_type": "display_data"
    },
    {
     "data": {
      "image/png": "[encoded data removed]",
      "text/plain": [
       "<matplotlib.figure.Figure at 0x7f274b0dc198>"
      ]
     },
     "metadata": {},
     "output_type": "display_data"
    }
   ],
   "source": [
    "# Experimenting with Discrete Cosine Transform\n",
    "from scipy.fftpack import dct\n",
    "from scipy.fftpack import idct\n",
    "from math import exp\n",
    "\n",
    "\n",
    "tile_reduc = 32\n",
    "\n",
    "# The reshape order must be consistent and MUST be F for spatial consistency of the transform data\n",
    "# If applied to a CNN, we will need to make sure that the 'stride' of the convolutions is consistent with the DCT tile window size\n",
    "# The DCT must be normalized with we need to compare various window sizes for image reconstitutions\n",
    "img_r = img.reshape( int(img.shape[0]/tile_reduc),\n",
    "                    int(img.shape[1]/tile_reduc), 3, tile_reduc*tile_reduc,\n",
    "                    order='F')\n",
    "\n",
    "tr0 = dct(img_r,type=2, axis=1, norm='ortho')\n",
    "tr1 = dct(tr0,type=2, axis=0, norm='ortho')\n",
    "print('img.shape',img.shape)\n",
    "print('img_r.shape',img_r.shape)\n",
    "print('tr1.shape',tr1.shape)\n",
    "\n",
    "tr1_retiled = np.abs(tr1.reshape(img.shape[0], img.shape[1], 3 , order='F'))\n",
    "\n",
    "tr_unbias = tr1_retiled-tr1_retiled.min()\n",
    "log_normal_k = (exp(255) - 1)/tr_unbias.max()\n",
    "tr_lognorm =np.log( 1 +  tr_unbias*log_normal_k )\n",
    "tr_norm = tr_unbias/tr_unbias.max()\n",
    "plt.imshow(tr_lognorm)\n",
    "plt.show()\n",
    "\n",
    "trinv1 = idct(tr1, type=2, axis=0, norm='ortho')\n",
    "trinv0 = idct(trinv1, type=2, axis=1, norm='ortho')\n",
    "\n",
    "\n",
    "trinv0_retiled = np.abs(trinv0.reshape(img.shape[0], img.shape[1], 3, order='F'))\n",
    "\n",
    "trinv_unbias = trinv0_retiled-trinv0_retiled.min()\n",
    "log_normal_k = (exp(255) - 1)/trinv_unbias.max()\n",
    "trinv_lognorm =np.log( 1 +  trinv_unbias*log_normal_k )\n",
    "trinv_norm = trinv_unbias/trinv_unbias.max()\n",
    "plt.imshow((trinv0_retiled+1e-6)*(1-1e-3))\n",
    "plt.show()"
   ]
  },
  {
   "cell_type": "code",
   "execution_count": 271,
   "metadata": {},
   "outputs": [
    {
     "name": "stdout",
     "output_type": "stream",
     "text": [
      "img.shape (224, 224, 3)\n",
      "img_r.shape (7, 7, 3, 1024)\n",
      "tr1.shape (7, 7, 3, 1024)\n"
     ]
    },
    {
     "data": {
      "image/png": "[encoded data removed]",
      "text/plain": [
       "<matplotlib.figure.Figure at 0x7f275355d940>"
      ]
     },
     "metadata": {},
     "output_type": "display_data"
    },
    {
     "data": {
      "image/png": "[encoded data removed]",
      "text/plain": [
       "<matplotlib.figure.Figure at 0x7f275196acc0>"
      ]
     },
     "metadata": {},
     "output_type": "display_data"
    }
   ],
   "source": [
    "from numpy.fft import rfft\n",
    "from numpy.fft import irfft\n",
    "\n",
    "tile_reduc = 32\n",
    "\n",
    "# The reshape order must be consistent and MUST be F for spatial consistency of the transform data\n",
    "# If applied to a CNN, we will need to make sure that the 'stride' of the convolutions is consistent with the DCT tile window size\n",
    "# The DCT must be normalized with we need to compare various window sizes for image reconstitutions\n",
    "img_r = img.reshape( int(img.shape[0]/tile_reduc),\n",
    "                    int(img.shape[1]/tile_reduc), 3, tile_reduc*tile_reduc,\n",
    "                    order='F')\n",
    "\n",
    "#tr0 = dct(img_r,type=2, axis=1, norm='ortho')\n",
    "#tr1 = dct(tr0,type=2, axis=0, norm='ortho')\n",
    "print('img.shape',img.shape)\n",
    "print('img_r.shape',img_r.shape)\n",
    "\n",
    "tr0 = fft(img_r, axis=0, norm='ortho')\n",
    "tr1 = fft(tr0, axis=1, norm='ortho')\n",
    "\n",
    "print('tr1.shape',tr1.shape)\n",
    "\n",
    "tr1_retiled = np.abs(tr1.reshape(img.shape[0], img.shape[1], 3 , order='F'))\n",
    "\n",
    "tr_unbias = tr1_retiled-tr1_retiled.min()\n",
    "log_normal_k = (exp(255) - 1)/tr_unbias.max()\n",
    "tr_lognorm =np.log( 1 +  tr_unbias*log_normal_k )\n",
    "tr_norm = tr_unbias/tr_unbias.max()\n",
    "plt.imshow(tr_lognorm)\n",
    "plt.show()\n",
    "\n",
    "#trinv1 = idct(tr1, type=2, axis=0, norm='ortho')\n",
    "#trinv0 = idct(trinv1, type=2, axis=1, norm='ortho')\n",
    "\n",
    "trinv1 = ifft(tr1, axis=0, norm='ortho')\n",
    "trinv0 = ifft(trinv1, axis=1, norm='ortho')\n",
    "\n",
    "\n",
    "trinv0_retiled = np.abs(trinv0.reshape(img.shape[0], img.shape[1], 3, order='F'))\n",
    "\n",
    "trinv_unbias = trinv0_retiled-trinv0_retiled.min()\n",
    "log_normal_k = (exp(255) - 1)/trinv_unbias.max()\n",
    "trinv_lognorm =np.log( 1 +  trinv_unbias*log_normal_k )\n",
    "trinv_norm = trinv_unbias/trinv_unbias.max()\n",
    "plt.imshow((trinv0_retiled+1e-6)*(1-1e-3))\n",
    "plt.show()"
   ]
  },
  {
   "cell_type": "code",
   "execution_count": 149,
   "metadata": {},
   "outputs": [
    {
     "data": {
      "text/plain": [
       "(28, 28, 3, 64)"
      ]
     },
     "execution_count": 149,
     "metadata": {},
     "output_type": "execute_result"
    }
   ],
   "source": [
    "img_r.shape"
   ]
  }
 ],
 "metadata": {
  "kernelspec": {
   "display_name": "Python [default]",
   "language": "python",
   "name": "python3"
  },
  "language_info": {
   "codemirror_mode": {
    "name": "ipython",
    "version": 3
   },
   "file_extension": ".py",
   "mimetype": "text/x-python",
   "name": "python",
   "nbconvert_exporter": "python",
   "pygments_lexer": "ipython3",
   "version": "3.5.2"
  }
 },
 "nbformat": 4,
 "nbformat_minor": 2
}

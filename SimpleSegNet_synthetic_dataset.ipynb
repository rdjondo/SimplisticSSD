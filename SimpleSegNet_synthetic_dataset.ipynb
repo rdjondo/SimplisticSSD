{
 "cells": [
  {
   "cell_type": "markdown",
   "metadata": {},
   "source": [
    "# Simple implementation of Simple Traffic Light Segmentation Neural Net\n",
    "\n"
   ]
  },
  {
   "cell_type": "markdown",
   "metadata": {},
   "source": [
    "# Datasets\n",
    "\n",
    "I will create a dataset of generic shapes and train the neural net to segment the images first by colour and then by shapes.\n"
   ]
  },
  {
   "cell_type": "markdown",
   "metadata": {},
   "source": [
    "## Colour data set"
   ]
  },
  {
   "cell_type": "code",
   "execution_count": 6,
   "metadata": {
    "collapsed": true
   },
   "outputs": [],
   "source": [
    "import numpy as np\n",
    "import pandas as pd\n",
    "import re\n",
    "\n",
    "\n",
    "# Show images\n",
    "import matplotlib.pyplot as plt\n",
    "import matplotlib.image as mpimg\n",
    "import cv2\n",
    "import glob\n",
    "\n",
    "import random"
   ]
  },
  {
   "cell_type": "code",
   "execution_count": 7,
   "metadata": {},
   "outputs": [
    {
     "data": {
      "image/png": "[encoded data removed]",
      "text/plain": [
       "<matplotlib.figure.Figure at 0x1991b9b0>"
      ]
     },
     "metadata": {},
     "output_type": "display_data"
    },
    {
     "data": {
      "image/png": "[encoded data removed]",
      "text/plain": [
       "<matplotlib.figure.Figure at 0x198bd0b8>"
      ]
     },
     "metadata": {},
     "output_type": "display_data"
    },
    {
     "data": {
      "image/png": "[encoded data removed]",
      "text/plain": [
       "<matplotlib.figure.Figure at 0x139b5a20>"
      ]
     },
     "metadata": {},
     "output_type": "display_data"
    },
    {
     "name": "stdout",
     "output_type": "stream",
     "text": [
      "Image size (224, 224, 3)\n"
     ]
    }
   ],
   "source": [
    "class TrainingImage:\n",
    "    \"\"\" \n",
    "    This class handles the creation of training\n",
    "    images and the associated label image\n",
    "    \"\"\"\n",
    "    #Colors classes    \n",
    "    BLACK_CLASS = 0\n",
    "    WHITE_CLASS = 1\n",
    "    RED_CLASS = 2\n",
    "    LIME_CLASS = 3\n",
    "    BLUE_CLASS = 4\n",
    "    YELLOW_CLASS = 5\n",
    "    CYAN_CLASS = 6\n",
    "    MAGENTA_CLASS = 7\n",
    "    SILVER_CLASS = 8\n",
    "    GRAY_CLASS = 9\n",
    "    MAROON_CLASS = 10\n",
    "    OLIVE_CLASS = 11\n",
    "    GREEN_CLASS = 12\n",
    "    PURPLE_CLASS = 13\n",
    "    TEAL_CLASS = 14\n",
    "    NAVY_CLASS = 15\n",
    "    \n",
    "    COLOR = {\n",
    "        BLACK_CLASS : (0,0,0),\n",
    "        WHITE_CLASS : (255,255,255),\n",
    "        RED_CLASS : (255,0,0),\n",
    "#         LIME_CLASS : (0,255,0),\n",
    "#         BLUE_CLASS : (0,0,255),\n",
    "#         YELLOW_CLASS : (255,255,0),\n",
    "#         CYAN_CLASS : (0,255,255),\n",
    "#         MAGENTA_CLASS : (255,0,255),\n",
    "#         SILVER_CLASS : (192,192,192),\n",
    "#         GRAY_CLASS : (128,128,128),\n",
    "#         MAROON_CLASS : (128,0,0),\n",
    "#         OLIVE_CLASS : (128,128,0),\n",
    "#         GREEN_CLASS : (0,128,0),\n",
    "#         PURPLE_CLASS : (128,0,128),\n",
    "#         TEAL_CLASS : (0,128,128),\n",
    "#         NAVY_CLASS : (0,0,128),\n",
    "    }\n",
    "    \n",
    "    NO_SHAPE = 0\n",
    "    RECTANGLE_CLASS = 1\n",
    "    CIRCLE_CLASS = 2\n",
    "    \n",
    "    \n",
    "    def __init__(self, size=(224,224, 3), backgd_color_class=BLACK_CLASS):\n",
    "        self.size = size\n",
    "        self.createImageBackground(backgd_color_class)\n",
    "        \n",
    "    def clear(self):\n",
    "        self.image = np.zeros(self.size, dtype=np.uint8)\n",
    "        self.label = np.zeros(self.size[0:2] + (len(TrainingImage.COLOR.keys()), ) , dtype=np.uint8)\n",
    "        self.label_shape = np.zeros(self.size[0:2] + (self.CIRCLE_CLASS+1, ) , dtype=np.uint8)\n",
    "        \n",
    "    def createImageBackground(self, backgd_color_class):\n",
    "        self.backgd_color_class = backgd_color_class\n",
    "        self.clear()\n",
    "        for channel in range(0, 3):\n",
    "            self.image[:,:,channel] = TrainingImage.COLOR[self.backgd_color_class][channel]\n",
    "        self.label[:,:, self.backgd_color_class] = 1\n",
    "    \n",
    "    def createRectangle(self, pt1, pt2, color_class=WHITE_CLASS):\n",
    "        cv2.rectangle(self.image, \n",
    "                      pt1[::-1], pt2[::-1], TrainingImage.COLOR[color_class], thickness=cv2.FILLED)\n",
    "        self.label[pt1[0]:pt2[0],pt1[1]:pt2[1], :] =  0 # Clear exisiting labels in target color position\n",
    "        self.label[pt1[0]:pt2[0],pt1[1]:pt2[1], color_class] =  1 # Set exisiting labels in target color class position\n",
    "        \n",
    "        \n",
    "        self.label_shape[pt1[0]:pt2[0],pt1[1]:pt2[1], :] =  0 # Clear exisiting labels in target position\n",
    "        self.label_shape[pt1[0]:pt2[0],pt1[1]:pt2[1], self.RECTANGLE_CLASS] =  1 # Set exisiting labels in target shape class position\n",
    "        \n",
    "    def createCircle(self, center, radius, color_class=WHITE_CLASS):\n",
    "        cv2.circle(self.image, center[::-1], radius, TrainingImage.COLOR[color_class], thickness=cv2.FILLED) \n",
    "        # Clear exisiting labels in target position\n",
    "        \n",
    "        for chan in range(self.label_shape.shape[2]):\n",
    "            label_chan = np.array(self.label_shape[:,:,chan])\n",
    "            self.label_shape[:,:,chan] = cv2.circle(label_chan, center[::-1], radius,\n",
    "                                                    0, thickness=cv2.FILLED)\n",
    "        \n",
    "        for chan in range(self.label.shape[2]):\n",
    "            label_chan = np.array(self.label[:,:,chan])\n",
    "            self.label[:,:,chan] = cv2.circle(label_chan, center[::-1], radius,\n",
    "                                                    0, thickness=cv2.FILLED)\n",
    "            \n",
    "        # Set label pixel for the shape class channel\n",
    "        self.label_shape[:,:, self.CIRCLE_CLASS] = cv2.circle(np.array(self.label[:,:, self.CIRCLE_CLASS]), \n",
    "                                                       center[::-1], radius, 1, thickness=cv2.FILLED)\n",
    "        # Set label pixel for the color class channel\n",
    "        self.label[:,:,color_class] = cv2.circle(np.array(self.label[:,:,color_class]), \n",
    "                                                       center[::-1], radius, 1, thickness=cv2.FILLED)\n",
    "    \n",
    "    def addRandRectangle(self, color_class=WHITE_CLASS):\n",
    "        image_size = self.image.shape\n",
    "        pt1 = (random.randint(0, 150), random.randint(0, 100))\n",
    "        pt2 = (random.randint(pt1[0]+50, image_size[0]-1), random.randint(pt1[1]+50, image_size[1]-1))\n",
    "        self.createRectangle( pt1, pt2, color_class=color_class)\n",
    "        \n",
    "    def addRandCircle(self, color_class=WHITE_CLASS):\n",
    "        image_size = self.image.shape\n",
    "        center = (random.randint(0, image_size[0]), random.randint(0, image_size[0]))\n",
    "        radius = random.randint(50, (image_size[0]-1)//2)\n",
    "        self.createCircle( center, radius, color_class=color_class)\n",
    "\n",
    "\n",
    "image_size = (224,224, 3)\n",
    "trainim = TrainingImage(size=image_size , backgd_color_class=TrainingImage.BLACK_CLASS)\n",
    "trainim.createRectangle( (50,150) , (150,200), color_class=TrainingImage.RED_CLASS)\n",
    "trainim.addRandRectangle(TrainingImage.WHITE_CLASS)\n",
    "trainim.addRandCircle(TrainingImage.RED_CLASS)\n",
    "#trainim.createCircle( (150, 20), 100 )\n",
    "\n",
    "# Plot background \n",
    "plt.imshow(trainim.image)\n",
    "plt.title('image')\n",
    "plt.show()\n",
    "\n",
    "# Plot background \n",
    "plt.imshow(trainim.label.argmax(axis=2), cmap='hot')\n",
    "plt.title('label color')\n",
    "plt.show()\n",
    "\n",
    "plt.imshow(trainim.label_shape.argmax(axis=2), cmap='hot')\n",
    "plt.title('label shape')\n",
    "plt.show()\n",
    "\n",
    "\n",
    "\n",
    "\n",
    "print('Image size {}'.format(trainim.image.shape))"
   ]
  },
  {
   "cell_type": "code",
   "execution_count": 8,
   "metadata": {},
   "outputs": [
    {
     "name": "stdout",
     "output_type": "stream",
     "text": [
      "Total size of the use of memory : 147.0MB\n"
     ]
    }
   ],
   "source": [
    "# Generate color training dataset\n",
    "from functools import reduce\n",
    "\n",
    "\n",
    "NUM_TRAIN = 512\n",
    "num_classes = len(TrainingImage.COLOR.keys())\n",
    "image_size = (224,224, 3)\n",
    "label_size = (224,224, num_classes)\n",
    "size_in_memory = 1\n",
    "image_mem = reduce(lambda a,b : a*b ,image_size, 1)\n",
    "label_mem = reduce(lambda a,b : a*b ,label_size, 1)\n",
    "total_train_mem = NUM_TRAIN * (image_mem + label_mem)\n",
    "print('Total size of the use of memory : {}MB'.format(total_train_mem/(1024*1024)))\n",
    "\n",
    "\n",
    "\n",
    "def generateRectangleData(X, y, num_samples):\n",
    "    trainim = TrainingImage(size=image_size)\n",
    "    for i in range(num_samples):\n",
    "        trainim.createImageBackground(TrainingImage.BLACK_CLASS)\n",
    "        trainim.addRandRectangle(color_class=random.randint(1, num_classes-1))\n",
    "\n",
    "        X[i] = trainim.image\n",
    "        y[i] = trainim.label\n",
    "    return X, y\n",
    "\n",
    "X_TRAIN_SIZE = (NUM_TRAIN,) + image_size\n",
    "Y_TRAIN_SIZE = (NUM_TRAIN,) + image_size[0:2] + (num_classes, )\n",
    "X_train = np.zeros(X_TRAIN_SIZE, dtype=np.uint8)\n",
    "y_train = np.zeros(Y_TRAIN_SIZE, dtype=np.uint8)\n",
    "X_train, y_train = generateRectangleData(X_train, y_train, NUM_TRAIN)\n",
    "\n",
    "NUM_VAL = 64\n",
    "X_VAL_SIZE = (NUM_VAL,) + image_size\n",
    "Y_VAL_SIZE = (NUM_VAL,) + image_size[0:2] + (num_classes, )\n",
    "X_val = np.zeros(X_VAL_SIZE, dtype=np.uint8)\n",
    "y_val = np.zeros(Y_VAL_SIZE, dtype=np.uint8)\n",
    "X_val, y_val = generateRectangleData(X_val, y_val, NUM_VAL)"
   ]
  },
  {
   "cell_type": "code",
   "execution_count": 9,
   "metadata": {
    "scrolled": false
   },
   "outputs": [
    {
     "data": {
      "image/png": "[encoded data removed]",
      "text/plain": [
       "<matplotlib.figure.Figure at 0x197a40f0>"
      ]
     },
     "metadata": {},
     "output_type": "display_data"
    },
    {
     "data": {
      "image/png": "[encoded data removed]",
      "text/plain": [
       "<matplotlib.figure.Figure at 0x139eca20>"
      ]
     },
     "metadata": {},
     "output_type": "display_data"
    },
    {
     "data": {
      "image/png": "[encoded data removed]",
      "text/plain": [
       "<matplotlib.figure.Figure at 0x19793a20>"
      ]
     },
     "metadata": {},
     "output_type": "display_data"
    },
    {
     "data": {
      "image/png": "[encoded data removed]",
      "text/plain": [
       "<matplotlib.figure.Figure at 0x197466d8>"
      ]
     },
     "metadata": {},
     "output_type": "display_data"
    }
   ],
   "source": [
    "# Plot color evaluation dataset\n",
    "\n",
    "for idx in range(3,7):\n",
    "\n",
    "    fig = plt.figure(1)\n",
    "    ax = fig.add_subplot(1,2,1)\n",
    "    imsh = ax.imshow( X_train[idx], cmap='magma')\n",
    "\n",
    "    ax = fig.add_subplot(1,2,2)\n",
    "    imsh = ax.imshow( y_train[idx,:,:,:].argmax(axis=2), cmap='magma')\n",
    "    plt.colorbar(imsh)\n",
    "    plt.show()\n"
   ]
  },
  {
   "cell_type": "markdown",
   "metadata": {},
   "source": [
    "\n"
   ]
  },
  {
   "cell_type": "code",
   "execution_count": 10,
   "metadata": {
    "collapsed": true
   },
   "outputs": [],
   "source": []
  },
  {
   "cell_type": "markdown",
   "metadata": {},
   "source": [
    "# Model\n",
    "The original paper uses VGG for implementing the detector.\n",
    "\n",
    "\n",
    "TODO : Will try experimenting with Xception and MobileNet  \n",
    "https://keras.io/applications/#usage-examples-for-image-classification-models\n"
   ]
  },
  {
   "cell_type": "code",
   "execution_count": 21,
   "metadata": {
    "scrolled": true
   },
   "outputs": [
    {
     "name": "stdout",
     "output_type": "stream",
     "text": [
      "Pre-trained model loaded.\n",
      "__________________________________________________________________________________________________\n",
      "Layer (type)                    Output Shape         Param #     Connected to                     \n",
      "==================================================================================================\n",
      "input_6 (InputLayer)            (None, 224, 224, 3)  0                                            \n",
      "__________________________________________________________________________________________________\n",
      "block1_conv1 (Conv2D)           (None, 224, 224, 64) 1792        input_6[0][0]                    \n",
      "__________________________________________________________________________________________________\n",
      "block1_conv2 (Conv2D)           (None, 224, 224, 64) 36928       block1_conv1[0][0]               \n",
      "__________________________________________________________________________________________________\n",
      "block1_pool (MaxPooling2D)      (None, 112, 112, 64) 0           block1_conv2[0][0]               \n",
      "__________________________________________________________________________________________________\n",
      "block2_conv1 (Conv2D)           (None, 112, 112, 128 73856       block1_pool[0][0]                \n",
      "__________________________________________________________________________________________________\n",
      "block2_conv2 (Conv2D)           (None, 112, 112, 128 147584      block2_conv1[0][0]               \n",
      "__________________________________________________________________________________________________\n",
      "block2_pool (MaxPooling2D)      (None, 56, 56, 128)  0           block2_conv2[0][0]               \n",
      "__________________________________________________________________________________________________\n",
      "block3_conv1 (Conv2D)           (None, 56, 56, 256)  295168      block2_pool[0][0]                \n",
      "__________________________________________________________________________________________________\n",
      "block3_conv2 (Conv2D)           (None, 56, 56, 256)  590080      block3_conv1[0][0]               \n",
      "__________________________________________________________________________________________________\n",
      "block3_conv3 (Conv2D)           (None, 56, 56, 256)  590080      block3_conv2[0][0]               \n",
      "__________________________________________________________________________________________________\n",
      "block3_pool (MaxPooling2D)      (None, 28, 28, 256)  0           block3_conv3[0][0]               \n",
      "__________________________________________________________________________________________________\n",
      "block4_conv1 (Conv2D)           (None, 28, 28, 512)  1180160     block3_pool[0][0]                \n",
      "__________________________________________________________________________________________________\n",
      "block4_conv2 (Conv2D)           (None, 28, 28, 512)  2359808     block4_conv1[0][0]               \n",
      "__________________________________________________________________________________________________\n",
      "block4_conv3 (Conv2D)           (None, 28, 28, 512)  2359808     block4_conv2[0][0]               \n",
      "__________________________________________________________________________________________________\n",
      "block4_pool (MaxPooling2D)      (None, 14, 14, 512)  0           block4_conv3[0][0]               \n",
      "__________________________________________________________________________________________________\n",
      "block5_conv1 (Conv2D)           (None, 14, 14, 512)  2359808     block4_pool[0][0]                \n",
      "__________________________________________________________________________________________________\n",
      "block5_conv2 (Conv2D)           (None, 14, 14, 512)  2359808     block5_conv1[0][0]               \n",
      "__________________________________________________________________________________________________\n",
      "block5_conv3 (Conv2D)           (None, 14, 14, 512)  2359808     block5_conv2[0][0]               \n",
      "__________________________________________________________________________________________________\n",
      "block5_pool (MaxPooling2D)      (None, 7, 7, 512)    0           block5_conv3[0][0]               \n",
      "__________________________________________________________________________________________________\n",
      "convpool_5_1x1 (Conv2D)         (None, 7, 7, 3)      1539        block5_pool[0][0]                \n",
      "__________________________________________________________________________________________________\n",
      "up_sampling2d_21 (UpSampling2D) (None, 14, 14, 3)    0           convpool_5_1x1[0][0]             \n",
      "__________________________________________________________________________________________________\n",
      "convpool_4_1x1 (Conv2D)         (None, 14, 14, 3)    1539        block4_pool[0][0]                \n",
      "__________________________________________________________________________________________________\n",
      "add_21 (Add)                    (None, 14, 14, 3)    0           up_sampling2d_21[0][0]           \n",
      "                                                                 convpool_4_1x1[0][0]             \n",
      "__________________________________________________________________________________________________\n",
      "conv2d_transpose_6 (Conv2DTrans (None, 28, 28, 3)    84          add_21[0][0]                     \n",
      "__________________________________________________________________________________________________\n",
      "up_layer_4_and_5_bn (BatchNorma (None, 28, 28, 3)    12          conv2d_transpose_6[0][0]         \n",
      "__________________________________________________________________________________________________\n",
      "convpool_3_1x1 (Conv2D)         (None, 28, 28, 3)    771         block3_pool[0][0]                \n",
      "__________________________________________________________________________________________________\n",
      "add_22 (Add)                    (None, 28, 28, 3)    0           up_layer_4_and_5_bn[0][0]        \n",
      "                                                                 convpool_3_1x1[0][0]             \n",
      "__________________________________________________________________________________________________\n",
      "up_sampling2d_22 (UpSampling2D) (None, 56, 56, 3)    0           add_22[0][0]                     \n",
      "__________________________________________________________________________________________________\n",
      "convpool_2_1x1 (Conv2D)         (None, 56, 56, 3)    387         block2_pool[0][0]                \n",
      "__________________________________________________________________________________________________\n",
      "add_23 (Add)                    (None, 56, 56, 3)    0           up_sampling2d_22[0][0]           \n",
      "                                                                 convpool_2_1x1[0][0]             \n",
      "__________________________________________________________________________________________________\n",
      "up_sampling2d_23 (UpSampling2D) (None, 112, 112, 3)  0           add_23[0][0]                     \n",
      "__________________________________________________________________________________________________\n",
      "up_layer_2_to_5_bn (BatchNormal (None, 112, 112, 3)  12          up_sampling2d_23[0][0]           \n",
      "__________________________________________________________________________________________________\n",
      "convpool_1_1x1 (Conv2D)         (None, 112, 112, 3)  195         block1_pool[0][0]                \n",
      "__________________________________________________________________________________________________\n",
      "add_24 (Add)                    (None, 112, 112, 3)  0           up_layer_2_to_5_bn[0][0]         \n",
      "                                                                 convpool_1_1x1[0][0]             \n",
      "__________________________________________________________________________________________________\n",
      "conv_1_1x1 (Conv2D)             (None, 224, 224, 3)  195         block1_conv1[0][0]               \n",
      "__________________________________________________________________________________________________\n",
      "up_sampling2d_24 (UpSampling2D) (None, 224, 224, 3)  0           add_24[0][0]                     \n",
      "__________________________________________________________________________________________________\n",
      "final_merge (Add)               (None, 224, 224, 3)  0           conv_1_1x1[0][0]                 \n",
      "                                                                 up_sampling2d_24[0][0]           \n",
      "__________________________________________________________________________________________________\n",
      "soft_out (Lambda)               (None, 224, 224, 3)  0           final_merge[0][0]                \n",
      "==================================================================================================\n",
      "Total params: 14,719,422\n",
      "Trainable params: 4,722\n",
      "Non-trainable params: 14,714,700\n",
      "__________________________________________________________________________________________________\n"
     ]
    }
   ],
   "source": [
    "import os\n",
    "os.environ[\"CUDA_DEVICE_ORDER\"] = \"PCI_BUS_ID\"   # see issue #152\n",
    "os.environ[\"CUDA_VISIBLE_DEVICES\"] = \"\"\n",
    "\n",
    "# Extract features from an arbitrary intermediate layer with VGG19\n",
    "\n",
    "from segmodel import SegModel\n",
    "\n",
    "# Extract pooling layers out of VGG-16\n",
    "num_classes = len(TrainingImage.COLOR.keys())\n",
    "\n",
    "segModel = SegModel(num_classes) \n",
    "model = segModel.getModel()\n",
    "\n",
    "\n",
    "from keras import backend as K\n",
    "import tensorflow as tf\n",
    "\n",
    "def dice_coef(y_true, y_pred):\n",
    "    smooth = 1.0e-3\n",
    "    y_true_f = K.flatten(y_true)\n",
    "    y_pred_f = K.flatten(y_pred)\n",
    "    intersection = K.sum(y_true_f * y_pred_f)\n",
    "    return (2. * intersection + smooth) / (K.sum(y_true_f) + K.sum(y_pred_f) + smooth)\n",
    "\n",
    "def jaccard_coef(y_true, y_pred):\n",
    "    smooth = 1.0e-3\n",
    "    y_true_f = K.flatten(y_true) > 1e-5\n",
    "    y_pred_f = K.flatten(y_pred) > 1e-5\n",
    "    intersection = K.cast(tf.logical_and(y_true_f, y_pred_f), 'float32')\n",
    "    union = K.cast(tf.logical_or(y_true_f, y_pred_f), 'float32')\n",
    "    i_mean = K.mean(intersection, axis=0)\n",
    "    u_mean = K.mean(union, axis=0)\n",
    "    return (i_mean + smooth) / (u_mean + smooth)\n",
    "\n",
    "\n",
    "def dice_coef_loss(y_true, y_pred):\n",
    "    return -1.0 * dice_coef(y_true, y_pred)\n",
    "\n",
    "def jaccard_coef_loss(y_true, y_pred):\n",
    "    return -1.0 * jaccard_coef(y_true, y_pred)\n"
   ]
  },
  {
   "cell_type": "code",
   "execution_count": 22,
   "metadata": {},
   "outputs": [
    {
     "name": "stdout",
     "output_type": "stream",
     "text": [
      "Train on 512 samples, validate on 64 samples\n",
      "Epoch 1/3\n",
      "512/512 [==============================] - 526s 1s/step - loss: -0.3876 - final_merge_loss: -0.3893 - soft_out_loss: 0.1742 - final_merge_dice_coef: 0.7165 - soft_out_categorical_accuracy: 0.4556 - val_loss: -0.6865 - val_final_merge_loss: -0.6872 - val_soft_out_loss: 0.0703 - val_final_merge_dice_coef: 0.4994 - val_soft_out_categorical_accuracy: 0.7670\n",
      "Epoch 2/3\n",
      "512/512 [==============================] - 523s 1s/step - loss: -0.7461 - final_merge_loss: -0.7466 - soft_out_loss: 0.0502 - final_merge_dice_coef: 0.4338 - soft_out_categorical_accuracy: 0.7816 - val_loss: -0.7280 - val_final_merge_loss: -0.7285 - val_soft_out_loss: 0.0520 - val_final_merge_dice_coef: 0.3913 - val_soft_out_categorical_accuracy: 0.7710\n",
      "Epoch 3/3\n",
      "512/512 [==============================] - 537s 1s/step - loss: -0.7907 - final_merge_loss: -0.7912 - soft_out_loss: 0.0429 - final_merge_dice_coef: 0.3965 - soft_out_categorical_accuracy: 0.7816 - val_loss: -0.8016 - val_final_merge_loss: -0.8020 - val_soft_out_loss: 0.0432 - val_final_merge_dice_coef: 0.3837 - val_soft_out_categorical_accuracy: 0.7710\n"
     ]
    }
   ],
   "source": [
    "from keras import optimizers\n",
    "optimizer_selected = optimizers.Adam(lr=1e-3)\n",
    "\n",
    "my_loss={'final_merge': jaccard_coef_loss, 'soft_out': 'mean_squared_error'}\n",
    "my_loss_weights={'final_merge': 1.0, 'soft_out': 0.01}\n",
    "model.compile(optimizer=optimizer_selected, loss=my_loss, loss_weights = my_loss_weights , \n",
    "              metrics={'final_merge':dice_coef, 'soft_out':'categorical_accuracy'} )\n",
    "\n",
    "    \n",
    "history = model.fit(x=X_train, y=[y_train, y_train], batch_size=20, epochs=3, \n",
    "                    validation_split=0.0, validation_data=(X_val, [y_val, y_val]), shuffle=True,\n",
    "                    steps_per_epoch=None, validation_steps=None)"
   ]
  },
  {
   "cell_type": "code",
   "execution_count": null,
   "metadata": {
    "collapsed": true
   },
   "outputs": [],
   "source": [
    "import time\n",
    "#Plot loss function\n",
    "plt.plot(history.epoch,history.history['loss'])\n",
    "plt.legend(('loss'))\n",
    "plt.grid('on')\n",
    "plt.show()\n",
    "\n",
    "#img = X_train[10]\n",
    "\n",
    "# Create a brand-new image for testing\n",
    "trainim = TrainingImage(size=image_size , backgd_color_class=TrainingImage.BLACK_CLASS)\n",
    "trainim.createRectangle( (50,150) , (150,200), color_class=TrainingImage.RED_CLASS)\n",
    "trainim.addRandRectangle(TrainingImage.WHITE_CLASS)\n",
    "\n",
    "img = trainim.image\n",
    "\n",
    "\n",
    "start = time.time()\n",
    "y_out = model.predict(img.reshape(1,224,224,3))\n",
    "end = time.time()\n",
    "print('Time for inference : {}ms'.format((end - start)*1000))\n",
    "\n",
    "\n",
    "seg = y_out[1]\n",
    "seg = seg.reshape(224,224, num_classes)\n",
    "\n",
    "seg_classes=seg.argmax(axis=2)\n",
    "\n",
    "plt.imshow(img)\n",
    "plt.show()\n",
    "\n",
    "fig = plt.figure(1)\n",
    "fig.clf()\n",
    "ax = fig.add_subplot(2,2,1)\n",
    "imsh = ax.imshow( seg[:,:,0], cmap='magma')\n",
    "fig.colorbar(imsh)\n",
    "\n",
    "ax = fig.add_subplot(2,2,2)\n",
    "imsh = ax.imshow( seg[:,:,1], cmap='magma')\n",
    "fig.colorbar(imsh)\n",
    "\n",
    "ax = fig.add_subplot(2,2,3)\n",
    "imsh = ax.imshow( seg[:,:,2], cmap='magma')\n",
    "fig.colorbar(imsh)\n",
    "\n",
    "ax = fig.add_subplot(2,2,4)\n",
    "imsh = ax.imshow( seg_classes, cmap='magma' )\n",
    "fig.colorbar(imsh)\n",
    "plt.show()\n",
    "\n"
   ]
  },
  {
   "cell_type": "code",
   "execution_count": null,
   "metadata": {
    "collapsed": true
   },
   "outputs": [],
   "source": [
    "# Generate shape training dataset\n",
    "from functools import reduce\n",
    "\n",
    "\n",
    "NUM_TRAIN = 1024\n",
    "num_classes = 3\n",
    "image_size = (224,224, 3)\n",
    "label_size = (224,224, num_classes)\n",
    "size_in_memory = 1\n",
    "image_mem = reduce(lambda a,b : a*b ,image_size, 1)\n",
    "label_mem = reduce(lambda a,b : a*b ,label_size, 1)\n",
    "total_train_mem = NUM_TRAIN * (image_mem + label_mem)\n",
    "print('Total size of the use of memory : {}MB'.format(total_train_mem/(1024*1024)))\n",
    "\n",
    "\n",
    "\n",
    "def generateShapeData(X, y, num_samples):\n",
    "    trainim = TrainingImage(size=image_size)\n",
    "    for i in range(num_samples):\n",
    "        trainim.createImageBackground(TrainingImage.BLACK_CLASS)\n",
    "        if random.random()>0.5:\n",
    "            trainim.addRandRectangle(color_class=TrainingImage.RED_CLASS)\n",
    "        else:\n",
    "            trainim.addRandCircle(color_class=TrainingImage.RED_CLASS)\n",
    "        X[i] = trainim.image\n",
    "        y[i] = trainim.label_shape\n",
    "    return X, y\n",
    "\n",
    "X_TRAIN_SIZE = (NUM_TRAIN,) + image_size\n",
    "Y_TRAIN_SIZE = (NUM_TRAIN,) + image_size[0:2] + (num_classes, )\n",
    "X_train = np.zeros(X_TRAIN_SIZE, dtype=np.uint8)\n",
    "y_train = np.zeros(Y_TRAIN_SIZE, dtype=np.uint8)\n",
    "X_train, y_train = generateShapeData(X_train, y_train, NUM_TRAIN)\n",
    "\n",
    "NUM_VAL = 64\n",
    "X_VAL_SIZE = (NUM_VAL,) + image_size\n",
    "Y_VAL_SIZE = (NUM_VAL,) + image_size[0:2] + (num_classes, )\n",
    "X_val = np.zeros(X_VAL_SIZE, dtype=np.uint8)\n",
    "y_val = np.zeros(Y_VAL_SIZE, dtype=np.uint8)\n",
    "X_val, y_val = generateShapeData(X_val, y_val, NUM_VAL)"
   ]
  },
  {
   "cell_type": "code",
   "execution_count": null,
   "metadata": {
    "collapsed": true
   },
   "outputs": [],
   "source": [
    "# Plot color evaluation dataset\n",
    "\n",
    "for idx in range(3,7):\n",
    "\n",
    "    fig = plt.figure(1)\n",
    "    ax = fig.add_subplot(1,2,1)\n",
    "    imsh = ax.imshow( X_train[idx], cmap='magma')\n",
    "\n",
    "    ax = fig.add_subplot(1,2,2)\n",
    "    imsh = ax.imshow( y_train[idx,:,:,:].argmax(axis=2), cmap='magma')\n",
    "    plt.colorbar(imsh)\n",
    "    plt.show()"
   ]
  },
  {
   "cell_type": "code",
   "execution_count": null,
   "metadata": {
    "collapsed": true,
    "scrolled": true
   },
   "outputs": [],
   "source": [
    "from segmodel import SegModel\n",
    "\n",
    "# Extract pooling layers out of VGG-16\n",
    "num_classes = 3\n",
    "\n",
    "segModel = SegModel(num_classes) \n",
    "model = segModel.getModel()"
   ]
  },
  {
   "cell_type": "code",
   "execution_count": null,
   "metadata": {
    "collapsed": true
   },
   "outputs": [],
   "source": [
    "from keras import optimizers\n",
    "optimizer_selected = optimizers.Adam(lr=1e-4)\n",
    "\n",
    "my_loss={'final_merge': dice_coef_loss, 'soft_out': 'mean_squared_error'}\n",
    "my_loss_weights={'final_merge': 1.0, 'soft_out': 0.01}\n",
    "model.compile(optimizer=optimizer_selected, loss=my_loss, loss_weights = my_loss_weights , \n",
    "              metrics={'final_merge':dice_coef, 'soft_out':'categorical_accuracy'} )\n",
    "\n",
    "    \n",
    "history = model.fit(x=X_train, y=[y_train, y_train], batch_size=20, epochs=15, \n",
    "                    validation_split=0.0, validation_data=(X_val, [y_val, y_val]), shuffle=True,\n",
    "                    steps_per_epoch=None, validation_steps=None)\n",
    "\n",
    "import time\n",
    "#Plot loss function\n",
    "plt.plot(history.epoch,history.history['loss'])\n",
    "plt.legend(('loss'))\n",
    "plt.grid('on')\n",
    "plt.show()"
   ]
  },
  {
   "cell_type": "code",
   "execution_count": null,
   "metadata": {
    "collapsed": true
   },
   "outputs": [],
   "source": [
    "# Create a brand-new image for testing\n",
    "trainim = TrainingImage(size=image_size , backgd_color_class=TrainingImage.BLACK_CLASS)\n",
    "trainim.addRandRectangle(TrainingImage.RED_CLASS)\n",
    "#trainim.addRandCircle(TrainingImage.RED_CLASS)\n",
    "\n",
    "img = trainim.image\n",
    "\n",
    "\n",
    "start = time.time()\n",
    "y_out = model.predict(img.reshape(1,224,224,3))\n",
    "end = time.time()\n",
    "print('Time for inference : {}ms'.format((end - start)*1000))\n",
    "\n",
    "\n",
    "seg = y_out[1]\n",
    "seg = seg.reshape(224,224, num_classes)\n",
    "\n",
    "seg_classes=seg.argmax(axis=2)\n",
    "\n",
    "plt.imshow(img)\n",
    "plt.show()\n",
    "\n",
    "fig = plt.figure(1)\n",
    "fig.clf()\n",
    "ax = fig.add_subplot(2,2,1)\n",
    "imsh = ax.imshow( seg[:,:,0], cmap='magma')\n",
    "fig.colorbar(imsh)\n",
    "\n",
    "ax = fig.add_subplot(2,2,2)\n",
    "imsh = ax.imshow( seg[:,:,1], cmap='magma')\n",
    "fig.colorbar(imsh)\n",
    "\n",
    "ax = fig.add_subplot(2,2,3)\n",
    "imsh = ax.imshow( seg[:,:,2], cmap='magma')\n",
    "fig.colorbar(imsh)\n",
    "\n",
    "ax = fig.add_subplot(2,2,4)\n",
    "imsh = ax.imshow( seg_classes, cmap='magma' )\n",
    "fig.colorbar(imsh)\n",
    "plt.show()\n",
    "\n"
   ]
  },
  {
   "cell_type": "code",
   "execution_count": null,
   "metadata": {
    "collapsed": true
   },
   "outputs": [],
   "source": []
  }
 ],
 "metadata": {
  "kernelspec": {
   "display_name": "Python [default]",
   "language": "python",
   "name": "python3"
  },
  "language_info": {
   "codemirror_mode": {
    "name": "ipython",
    "version": 3
   },
   "file_extension": ".py",
   "mimetype": "text/x-python",
   "name": "python",
   "nbconvert_exporter": "python",
   "pygments_lexer": "ipython3",
   "version": "3.5.4"
  }
 },
 "nbformat": 4,
 "nbformat_minor": 2
}
